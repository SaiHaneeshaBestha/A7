{
 "cells": [
  {
   "attachments": {},
   "cell_type": "markdown",
   "metadata": {},
   "source": [
    "# Natural Language Processing\n",
    "\n",
    "# Retrieval-Augmented generation (RAG)\n",
    "\n",
    "RAG is a technique for augmenting LLM knowledge with additional, often private or real-time, data.\n",
    "\n",
    "LLMs can reason about wide-ranging topics, but their knowledge is limited to the public data up to a specific point in time that they were trained on. If you want to build AI applications that can reason about private data or data introduced after a model’s cutoff date, you need to augment the knowledge of the model with the specific information it needs.\n",
    "\n",
    "<img src=\"../figures/RAG-process.png\" >\n",
    "\n",
    "Introducing `ChakyBot`, an innovative chatbot designed to assist Chaky (the instructor) and TA (Gun) in explaining the lesson of the NLP course to students. Leveraging LangChain technology, ChakyBot excels in retrieving information from documents, ensuring a seamless and efficient learning experience for students engaging with the NLP curriculum.\n",
    "\n",
    "1. Prompt\n",
    "2. Retrieval\n",
    "3. Memory\n",
    "4. Chain"
   ]
  },
  {
   "cell_type": "code",
   "execution_count": null,
   "metadata": {},
   "outputs": [],
   "source": [
    "#langchain library\n",
    "#!pip install langchain==0.0.350\n",
    "#LLM\n",
    "#!pip install accelerate==0.25.0\n",
    "#!pip install transformers==4.36.2\n",
    "#!pip install bitsandbytes==0.41.2\n",
    "#Text Embedding\n",
    "#!pip install sentence-transformers==2.2.2\n",
    "#!pip install InstructorEmbedding==1.0.1\n",
    "#vectorstore\n",
    "#!pip install pymupdf==1.23.8\n",
    "#!pip install faiss-gpu==1.7.2\n",
    "#!pip install faiss-cpu==1.7.4"
   ]
  },
  {
   "cell_type": "code",
   "execution_count": 1,
   "metadata": {},
   "outputs": [
    {
     "data": {
      "text/plain": [
       "device(type='cpu')"
      ]
     },
     "execution_count": 1,
     "metadata": {},
     "output_type": "execute_result"
    }
   ],
   "source": [
    "import os\n",
    "import torch\n",
    "\n",
    "device = torch.device('cuda' if torch.cuda.is_available() else 'cpu')\n",
    "device"
   ]
  },
  {
   "attachments": {},
   "cell_type": "markdown",
   "metadata": {},
   "source": [
    "## 1. Prompt\n",
    "\n",
    "A set of instructions or input provided by a user to guide the model's response, helping it understand the context and generate relevant and coherent language-based output, such as answering questions, completing sentences, or engaging in a conversation."
   ]
  },
  {
   "cell_type": "code",
   "execution_count": 2,
   "metadata": {},
   "outputs": [
    {
     "data": {
      "text/plain": [
       "PromptTemplate(input_variables=['context', 'question'], template='HI ,I am AIT LILbot. I am your study program bot .If you are looking for courses offered in AIT and which school offers which courses you can ask me, I am always ready to help you ^-^!\\n    {context}\\n    Question: {question}\\n    Answer:')"
      ]
     },
     "execution_count": 2,
     "metadata": {},
     "output_type": "execute_result"
    }
   ],
   "source": [
    "from langchain import PromptTemplate\n",
    "\n",
    "prompt_template = \"\"\"\n",
    "    HI ,I am AIT LILbot. I am your study program bot .If you are looking for courses offered in AIT and which school offers which courses you can ask me, I am always ready to help you ^-^!\n",
    "    {context}\n",
    "    Question: {question}\n",
    "    Answer:\n",
    "    \"\"\".strip()\n",
    "\n",
    "PROMPT = PromptTemplate.from_template(\n",
    "    template = prompt_template\n",
    ")\n",
    "\n",
    "PROMPT\n",
    "#using str.format \n",
    "#The placeholder is defined using curly brackets: {} {}"
   ]
  },
  {
   "cell_type": "code",
   "execution_count": 3,
   "metadata": {},
   "outputs": [
    {
     "data": {
      "text/plain": [
       "'HI ,I am AIT LILbot. I am your study program bot .If you are looking for courses offered in AIT and which school offers which courses you can ask me, I am always ready to help you ^-^!\\n    All programs information are given below.\\n    Question: What are the programs offered?\\n    Answer:'"
      ]
     },
     "execution_count": 3,
     "metadata": {},
     "output_type": "execute_result"
    }
   ],
   "source": [
    "PROMPT.format(\n",
    "    context = \"All programs information are given below.\",\n",
    "    question = \"What are the programs offered?\"\n",
    ")"
   ]
  },
  {
   "attachments": {},
   "cell_type": "markdown",
   "metadata": {},
   "source": [
    "Note : [How to improve prompting (Zero-shot, Few-shot, Chain-of-Thought, etc.](https://github.com/chaklam-silpasuwanchai/Natural-Language-Processing/blob/main/Code/05%20-%20RAG/advance/cot-tot-prompting.ipynb)"
   ]
  },
  {
   "attachments": {},
   "cell_type": "markdown",
   "metadata": {},
   "source": [
    "## 2. Retrieval\n",
    "\n",
    "1. `Document loaders` : Load documents from many different sources (HTML, PDF, code). \n",
    "2. `Document transformers` : One of the essential steps in document retrieval is breaking down a large document into smaller, relevant chunks to enhance the retrieval process.\n",
    "3. `Text embedding models` : Embeddings capture the semantic meaning of the text, allowing you to quickly and efficiently find other pieces of text that are similar.\n",
    "4. `Vector stores`: there has emerged a need for databases to support efficient storage and searching of these embeddings.\n",
    "5. `Retrievers` : Once the data is in the database, you still need to retrieve it."
   ]
  },
  {
   "attachments": {},
   "cell_type": "markdown",
   "metadata": {},
   "source": [
    "### 2.1 Document Loaders \n",
    "Use document loaders to load data from a source as Document's. A Document is a piece of text and associated metadata. For example, there are document loaders for loading a simple .txt file, for loading the text contents of any web page, or even for loading a transcript of a YouTube video.\n",
    "\n",
    "[PDF Loader](https://python.langchain.com/docs/modules/data_connection/document_loaders/pdf)\n",
    "\n",
    "[Download Document](https://web.stanford.edu/~jurafsky/slp3/)"
   ]
  },
  {
   "cell_type": "code",
   "execution_count": null,
   "metadata": {},
   "outputs": [],
   "source": [
    "try:\n",
    "    import pwd\n",
    "except ImportError:\n",
    "    # Handle the ImportError (e.g., provide an alternative implementation or raise a more informative error)\n",
    "    print(\"The pwd module is not available on this platform.\")\n"
   ]
  },
  {
   "cell_type": "code",
   "execution_count": 4,
   "metadata": {},
   "outputs": [],
   "source": [
    "from langchain.document_loaders import PyMuPDFLoader\n",
    "\n",
    "nlp_docs = 'C:\\\\Users\\\\Haneesha\\\\OneDrive\\\\文件\\\\Boooooookkkkkkssss\\\\Academic Programs - Asian Institute of Technology.pdf'\n",
    "\n",
    "loader = PyMuPDFLoader(nlp_docs)\n",
    "documents = loader.load()"
   ]
  },
  {
   "cell_type": "code",
   "execution_count": 5,
   "metadata": {},
   "outputs": [
    {
     "data": {
      "text/plain": [
       "[Document(page_content='3/21/24, 7:37 PM\\nAcademic Programs - Asian Institute of Technology\\nhttps://ait.ac.th/academics/programs/\\n1/9\\nHome (h�ps://ait.ac.th) > Academics (h�ps://ait.ac.th… > Academic Programs\\nAcademic Programs\\nWe oﬀer various degree programs. You\\'ll sample courses in a wide range of\\nsubjects before immersing yourself in one of these focused areas.\\nIn this sec�on\\nShow ﬁlters\\n (/)\\nWe use cookies on our website to give you the most relevant experience by remembering your preferences and repeat visits. By clicking “Accept\\nAll”, you consent to the use of ALL the cookies. However, you may visit \"Cookie Settings\" to provide a controlled consent.\\nCookie Settings\\nAccept All\\n', metadata={'source': 'C:\\\\Users\\\\Haneesha\\\\OneDrive\\\\文件\\\\Boooooookkkkkkssss\\\\Academic Programs - Asian Institute of Technology.pdf', 'file_path': 'C:\\\\Users\\\\Haneesha\\\\OneDrive\\\\文件\\\\Boooooookkkkkkssss\\\\Academic Programs - Asian Institute of Technology.pdf', 'page': 0, 'total_pages': 9, 'format': 'PDF 1.4', 'title': '', 'author': '', 'subject': '', 'keywords': '', 'creator': 'Mozilla/5.0 (Windows NT 10.0; Win64; x64) AppleWebKit/537.36 (KHTML, like Gecko) Chrome/122.0.0.0 Safari/537.36', 'producer': 'Skia/PDF m122', 'creationDate': \"D:20240321123743+00'00'\", 'modDate': \"D:20240321123743+00'00'\", 'trapped': ''}),\n",
       " Document(page_content='3/21/24, 7:37 PM\\nAcademic Programs - Asian Institute of Technology\\nhttps://ait.ac.th/academics/programs/\\n2/9\\nAll Programs\\nAgri-Business Management\\n(ABM)\\nAgricultural Systems And\\nEngineering (ASE)\\nAquaculture and Aqua�c\\nResources Management\\n(AARM)\\nBio-Nano Materials Science\\nand Engineering (BNMSE)\\nClimate Change and\\nSustainable Development\\n(CCSD)\\nComputer Science (CS)\\n (/)\\nWe use cookies on our website to give you the most relevant experience by remembering your preferences and repeat visits. By clicking “Accept\\nAll”, you consent to the use of ALL the cookies. However, you may visit \"Cookie Settings\" to provide a controlled consent.\\nCookie Settings\\nAccept All\\n', metadata={'source': 'C:\\\\Users\\\\Haneesha\\\\OneDrive\\\\文件\\\\Boooooookkkkkkssss\\\\Academic Programs - Asian Institute of Technology.pdf', 'file_path': 'C:\\\\Users\\\\Haneesha\\\\OneDrive\\\\文件\\\\Boooooookkkkkkssss\\\\Academic Programs - Asian Institute of Technology.pdf', 'page': 1, 'total_pages': 9, 'format': 'PDF 1.4', 'title': '', 'author': '', 'subject': '', 'keywords': '', 'creator': 'Mozilla/5.0 (Windows NT 10.0; Win64; x64) AppleWebKit/537.36 (KHTML, like Gecko) Chrome/122.0.0.0 Safari/537.36', 'producer': 'Skia/PDF m122', 'creationDate': \"D:20240321123743+00'00'\", 'modDate': \"D:20240321123743+00'00'\", 'trapped': ''}),\n",
       " Document(page_content='3/21/24, 7:37 PM\\nAcademic Programs - Asian Institute of Technology\\nhttps://ait.ac.th/academics/programs/\\n3/9\\nConstruc�on, Engineering\\nand Infrastructure\\nManagement (CEIM)\\nData Science and AI (DSAI)\\nDevelopment and\\nSustainability (DS)\\nDevelopment Planning\\nManagement and\\nInnova�on (DPMI)\\nDisaster Preparedness\\nMi�ga�on and Management\\n(DPMM)\\nDoctor of Philosophy (Ph.D.)\\nin Management\\n (/)\\nWe use cookies on our website to give you the most relevant experience by remembering your preferences and repeat visits. By clicking “Accept\\nAll”, you consent to the use of ALL the cookies. However, you may visit \"Cookie Settings\" to provide a controlled consent.\\nCookie Settings\\nAccept All\\n', metadata={'source': 'C:\\\\Users\\\\Haneesha\\\\OneDrive\\\\文件\\\\Boooooookkkkkkssss\\\\Academic Programs - Asian Institute of Technology.pdf', 'file_path': 'C:\\\\Users\\\\Haneesha\\\\OneDrive\\\\文件\\\\Boooooookkkkkkssss\\\\Academic Programs - Asian Institute of Technology.pdf', 'page': 2, 'total_pages': 9, 'format': 'PDF 1.4', 'title': '', 'author': '', 'subject': '', 'keywords': '', 'creator': 'Mozilla/5.0 (Windows NT 10.0; Win64; x64) AppleWebKit/537.36 (KHTML, like Gecko) Chrome/122.0.0.0 Safari/537.36', 'producer': 'Skia/PDF m122', 'creationDate': \"D:20240321123743+00'00'\", 'modDate': \"D:20240321123743+00'00'\", 'trapped': ''}),\n",
       " Document(page_content='3/21/24, 7:37 PM\\nAcademic Programs - Asian Institute of Technology\\nhttps://ait.ac.th/academics/programs/\\n4/9\\nDoctorate of Business\\nAdministra�on (DBA)\\nDual Degree Master’s\\nProgram with Telecom Sud\\nParis (France)\\nDual Degree Master’s\\nProgram in Data Science\\nand AI with Brunel\\nUniversity London (UK)\\nDual Degree Master’s\\nProgram in Geotechnical\\nand Earth Resources\\nEngineering with Colorado\\nState University (USA)\\nDual Degree Master’s\\nProgram in Water\\nEngineering and\\nManagement with Colorado\\nState University (USA)\\nDual Degree Master’s\\nProgram in Water\\nEngineering and\\nManagement with the\\nUniversity of Iowa (USA)\\n (/)\\nWe use cookies on our website to give you the most relevant experience by remembering your preferences and repeat visits. By clicking “Accept\\nAll”, you consent to the use of ALL the cookies. However, you may visit \"Cookie Settings\" to provide a controlled consent.\\nCookie Settings\\nAccept All\\n', metadata={'source': 'C:\\\\Users\\\\Haneesha\\\\OneDrive\\\\文件\\\\Boooooookkkkkkssss\\\\Academic Programs - Asian Institute of Technology.pdf', 'file_path': 'C:\\\\Users\\\\Haneesha\\\\OneDrive\\\\文件\\\\Boooooookkkkkkssss\\\\Academic Programs - Asian Institute of Technology.pdf', 'page': 3, 'total_pages': 9, 'format': 'PDF 1.4', 'title': '', 'author': '', 'subject': '', 'keywords': '', 'creator': 'Mozilla/5.0 (Windows NT 10.0; Win64; x64) AppleWebKit/537.36 (KHTML, like Gecko) Chrome/122.0.0.0 Safari/537.36', 'producer': 'Skia/PDF m122', 'creationDate': \"D:20240321123743+00'00'\", 'modDate': \"D:20240321123743+00'00'\", 'trapped': ''}),\n",
       " Document(page_content='3/21/24, 7:37 PM\\nAcademic Programs - Asian Institute of Technology\\nhttps://ait.ac.th/academics/programs/\\n5/9\\nDual Degree Program with\\nUniversity of Wollongong\\n(Australia)\\nEngineering\\nEntrepreneurship\\nEnvironmental Engineering\\nand Management (EEM)\\nFood Engineering and\\nBioprocess Technology\\n(FEBT)\\nFood Innova�on, Nutri�on\\nand Health (FINH)\\nGender and Development\\nStudies (GDS)\\nN\\nt\\n (/)\\nWe use cookies on our website to give you the most relevant experience by remembering your preferences and repeat visits. By clicking “Accept\\nAll”, you consent to the use of ALL the cookies. However, you may visit \"Cookie Settings\" to provide a controlled consent.\\nCookie Settings\\nAccept All\\n', metadata={'source': 'C:\\\\Users\\\\Haneesha\\\\OneDrive\\\\文件\\\\Boooooookkkkkkssss\\\\Academic Programs - Asian Institute of Technology.pdf', 'file_path': 'C:\\\\Users\\\\Haneesha\\\\OneDrive\\\\文件\\\\Boooooookkkkkkssss\\\\Academic Programs - Asian Institute of Technology.pdf', 'page': 4, 'total_pages': 9, 'format': 'PDF 1.4', 'title': '', 'author': '', 'subject': '', 'keywords': '', 'creator': 'Mozilla/5.0 (Windows NT 10.0; Win64; x64) AppleWebKit/537.36 (KHTML, like Gecko) Chrome/122.0.0.0 Safari/537.36', 'producer': 'Skia/PDF m122', 'creationDate': \"D:20240321123743+00'00'\", 'modDate': \"D:20240321123743+00'00'\", 'trapped': ''}),\n",
       " Document(page_content='3/21/24, 7:37 PM\\nAcademic Programs - Asian Institute of Technology\\nhttps://ait.ac.th/academics/programs/\\n6/9\\n1\\n2\\n3 Next\\n»\\n (/)\\nP.O. Box 4, 58 Moo 9, Km. 42, Paholyothin Highway, Klong Luang, Pathum Thani 12120 Thailand\\n(+66) 25245000, (+66) 25160110-44\\nAbout\\nAcademics\\nApply to AIT\\n (/)\\nWe use cookies on our website to give you the most relevant experience by remembering your preferences and repeat visits. By clicking “Accept\\nAll”, you consent to the use of ALL the cookies. However, you may visit \"Cookie Settings\" to provide a controlled consent.\\nCookie Settings\\nAccept All\\n', metadata={'source': 'C:\\\\Users\\\\Haneesha\\\\OneDrive\\\\文件\\\\Boooooookkkkkkssss\\\\Academic Programs - Asian Institute of Technology.pdf', 'file_path': 'C:\\\\Users\\\\Haneesha\\\\OneDrive\\\\文件\\\\Boooooookkkkkkssss\\\\Academic Programs - Asian Institute of Technology.pdf', 'page': 5, 'total_pages': 9, 'format': 'PDF 1.4', 'title': '', 'author': '', 'subject': '', 'keywords': '', 'creator': 'Mozilla/5.0 (Windows NT 10.0; Win64; x64) AppleWebKit/537.36 (KHTML, like Gecko) Chrome/122.0.0.0 Safari/537.36', 'producer': 'Skia/PDF m122', 'creationDate': \"D:20240321123743+00'00'\", 'modDate': \"D:20240321123743+00'00'\", 'trapped': ''}),\n",
       " Document(page_content='3/21/24, 7:37 PM\\nAcademic Programs - Asian Institute of Technology\\nhttps://ait.ac.th/academics/programs/\\n7/9\\nAbout AIT (https://ait.ac.th/about/)\\nFacts and ﬁgures\\n(https://ait.ac.th/about/facts-and-\\nﬁgures/)\\nRankings\\n(https://ait.ac.th/about/rankings/)\\nLeadership\\n(https://ait.ac.th/about/leadership/)\\nPeople (https://ait.ac.th/about/meet-\\nour-faculty/)\\nMeet our faculty\\n(https://ait.ac.th/about/meet-our-\\nfaculty/)\\nMeet our staff\\n(https://ait.ac.th/about/meet-our-staff/)\\nLocation\\n(https://ait.ac.th/about/location/)\\nCenters\\n(https://ait.ac.th/about/centers/)\\nAcademic calendar\\n(https://ait.ac.th/academics/calendar/)\\nAcademic Programs\\n(https://ait.ac.th/academics/programs/)\\nStudy options\\n(https://ait.ac.th/academics/study-\\noptions/)\\nStudent opportunities\\n(https://ait.ac.th/academics/student-\\nopportunities/)\\nSchools\\n(https://ait.ac.th/academics/schools/)\\nAdmissions\\n(https://ait.ac.th/admissions/)\\nFinancial aid\\n(https://ait.ac.th/ﬁnancial-aid/)\\nTuition and fees\\n(https://ait.ac.th/tuition-and-fees/)\\nStudent housing\\n(https://ait.ac.th/student-housing/)\\nApply online (https://ait.ac.th/apply-\\nonline/)\\nResearch\\nResearch Centers\\n(https://ait.ac.th/research-centers/)\\nCampus life\\nHousing (https://ait.ac.th/housing/)\\nDining (https://ait.ac.th/dining/)\\nPartners\\n(h�ps://ait.ac.th/partners/)\\n (/)\\nWe use cookies on our website to give you the most relevant experience by remembering your preferences and repeat visits. By clicking “Accept\\nAll”, you consent to the use of ALL the cookies. However, you may visit \"Cookie Settings\" to provide a controlled consent.\\nCookie Settings\\nAccept All\\n', metadata={'source': 'C:\\\\Users\\\\Haneesha\\\\OneDrive\\\\文件\\\\Boooooookkkkkkssss\\\\Academic Programs - Asian Institute of Technology.pdf', 'file_path': 'C:\\\\Users\\\\Haneesha\\\\OneDrive\\\\文件\\\\Boooooookkkkkkssss\\\\Academic Programs - Asian Institute of Technology.pdf', 'page': 6, 'total_pages': 9, 'format': 'PDF 1.4', 'title': '', 'author': '', 'subject': '', 'keywords': '', 'creator': 'Mozilla/5.0 (Windows NT 10.0; Win64; x64) AppleWebKit/537.36 (KHTML, like Gecko) Chrome/122.0.0.0 Safari/537.36', 'producer': 'Skia/PDF m122', 'creationDate': \"D:20240321123743+00'00'\", 'modDate': \"D:20240321123743+00'00'\", 'trapped': ''}),\n",
       " Document(page_content='3/21/24, 7:37 PM\\nAcademic Programs - Asian Institute of Technology\\nhttps://ait.ac.th/academics/programs/\\n8/9\\nResearch Themes\\n(https://ait.ac.th/research-themes/)\\nResearch Projects\\n(https://ait.ac.th/research-projects/)\\nResearch Publications\\n(https://ait.ac.th/research-and-\\npublication/)\\nHealth & Wellness\\n(https://ait.ac.th/health-wellness/)\\nCultural diversity\\n(https://ait.ac.th/cultural-diversity/)\\nAthletics (https://ait.ac.th/athletcis/)\\nCareer development\\n(https://ait.ac.th/career-\\ndevelopment/)\\nFacilities (https://ait.ac.th/facilities/)\\nVirtual tour (https://ait.ac.th/virtual-\\ntour/)\\nNews\\n(h�ps://ait.ac.th/news/)\\nEvents\\n(h�ps://ait.ac.th/events/)\\nKey thema�c areas\\n(h�ps://ait.ac.th/climate-\\nchange/)\\nWork at AIT\\n(h�ps://ait.ac.th/opportuni�es/)\\nBranding\\n(h�ps://ait.ac.th/branding/)\\nContact\\n(h�ps://ait.ac.th/contact/)\\nA-Z Units\\n(h�ps://ait.ac.th/a-z-units/)\\nTerms and conditions (https://ait.ac.th/terms-conditions/)\\nPrivacy Policy (https://ait.ac.th/privacy-policy/)\\n (/)\\nWe use cookies on our website to give you the most relevant experience by remembering your preferences and repeat visits. By clicking “Accept\\nAll”, you consent to the use of ALL the cookies. However, you may visit \"Cookie Settings\" to provide a controlled consent.\\nCookie Settings\\nAccept All\\n', metadata={'source': 'C:\\\\Users\\\\Haneesha\\\\OneDrive\\\\文件\\\\Boooooookkkkkkssss\\\\Academic Programs - Asian Institute of Technology.pdf', 'file_path': 'C:\\\\Users\\\\Haneesha\\\\OneDrive\\\\文件\\\\Boooooookkkkkkssss\\\\Academic Programs - Asian Institute of Technology.pdf', 'page': 7, 'total_pages': 9, 'format': 'PDF 1.4', 'title': '', 'author': '', 'subject': '', 'keywords': '', 'creator': 'Mozilla/5.0 (Windows NT 10.0; Win64; x64) AppleWebKit/537.36 (KHTML, like Gecko) Chrome/122.0.0.0 Safari/537.36', 'producer': 'Skia/PDF m122', 'creationDate': \"D:20240321123743+00'00'\", 'modDate': \"D:20240321123743+00'00'\", 'trapped': ''}),\n",
       " Document(page_content='3/21/24, 7:37 PM\\nAcademic Programs - Asian Institute of Technology\\nhttps://ait.ac.th/academics/programs/\\n9/9\\n©2022 Asian Institute of Technology. All Rights Reserved. - Designed by Outsourcify (https://outsourcify.net)\\n (/)\\nWe use cookies on our website to give you the most relevant experience by remembering your preferences and repeat visits. By clicking “Accept\\nAll”, you consent to the use of ALL the cookies. However, you may visit \"Cookie Settings\" to provide a controlled consent.\\nCookie Settings\\nAccept All\\n', metadata={'source': 'C:\\\\Users\\\\Haneesha\\\\OneDrive\\\\文件\\\\Boooooookkkkkkssss\\\\Academic Programs - Asian Institute of Technology.pdf', 'file_path': 'C:\\\\Users\\\\Haneesha\\\\OneDrive\\\\文件\\\\Boooooookkkkkkssss\\\\Academic Programs - Asian Institute of Technology.pdf', 'page': 8, 'total_pages': 9, 'format': 'PDF 1.4', 'title': '', 'author': '', 'subject': '', 'keywords': '', 'creator': 'Mozilla/5.0 (Windows NT 10.0; Win64; x64) AppleWebKit/537.36 (KHTML, like Gecko) Chrome/122.0.0.0 Safari/537.36', 'producer': 'Skia/PDF m122', 'creationDate': \"D:20240321123743+00'00'\", 'modDate': \"D:20240321123743+00'00'\", 'trapped': ''})]"
      ]
     },
     "execution_count": 5,
     "metadata": {},
     "output_type": "execute_result"
    }
   ],
   "source": [
    "documents"
   ]
  },
  {
   "cell_type": "code",
   "execution_count": 6,
   "metadata": {},
   "outputs": [
    {
     "data": {
      "text/plain": [
       "9"
      ]
     },
     "execution_count": 6,
     "metadata": {},
     "output_type": "execute_result"
    }
   ],
   "source": [
    "len(documents)"
   ]
  },
  {
   "cell_type": "code",
   "execution_count": 7,
   "metadata": {},
   "outputs": [
    {
     "data": {
      "text/plain": [
       "Document(page_content='3/21/24, 7:37 PM\\nAcademic Programs - Asian Institute of Technology\\nhttps://ait.ac.th/academics/programs/\\n2/9\\nAll Programs\\nAgri-Business Management\\n(ABM)\\nAgricultural Systems And\\nEngineering (ASE)\\nAquaculture and Aqua�c\\nResources Management\\n(AARM)\\nBio-Nano Materials Science\\nand Engineering (BNMSE)\\nClimate Change and\\nSustainable Development\\n(CCSD)\\nComputer Science (CS)\\n (/)\\nWe use cookies on our website to give you the most relevant experience by remembering your preferences and repeat visits. By clicking “Accept\\nAll”, you consent to the use of ALL the cookies. However, you may visit \"Cookie Settings\" to provide a controlled consent.\\nCookie Settings\\nAccept All\\n', metadata={'source': 'C:\\\\Users\\\\Haneesha\\\\OneDrive\\\\文件\\\\Boooooookkkkkkssss\\\\Academic Programs - Asian Institute of Technology.pdf', 'file_path': 'C:\\\\Users\\\\Haneesha\\\\OneDrive\\\\文件\\\\Boooooookkkkkkssss\\\\Academic Programs - Asian Institute of Technology.pdf', 'page': 1, 'total_pages': 9, 'format': 'PDF 1.4', 'title': '', 'author': '', 'subject': '', 'keywords': '', 'creator': 'Mozilla/5.0 (Windows NT 10.0; Win64; x64) AppleWebKit/537.36 (KHTML, like Gecko) Chrome/122.0.0.0 Safari/537.36', 'producer': 'Skia/PDF m122', 'creationDate': \"D:20240321123743+00'00'\", 'modDate': \"D:20240321123743+00'00'\", 'trapped': ''})"
      ]
     },
     "execution_count": 7,
     "metadata": {},
     "output_type": "execute_result"
    }
   ],
   "source": [
    "documents[1]"
   ]
  },
  {
   "attachments": {},
   "cell_type": "markdown",
   "metadata": {},
   "source": [
    "### 2.2 Document Transformers\n",
    "\n",
    "This text splitter is the recommended one for generic text. It is parameterized by a list of characters. It tries to split on them in order until the chunks are small enough"
   ]
  },
  {
   "cell_type": "code",
   "execution_count": 8,
   "metadata": {},
   "outputs": [],
   "source": [
    "from langchain.text_splitter import RecursiveCharacterTextSplitter\n",
    "\n",
    "text_splitter = RecursiveCharacterTextSplitter(\n",
    "    chunk_size = 700,\n",
    "    chunk_overlap = 100\n",
    ")\n",
    "\n",
    "doc = text_splitter.split_documents(documents)"
   ]
  },
  {
   "cell_type": "code",
   "execution_count": 9,
   "metadata": {},
   "outputs": [
    {
     "data": {
      "text/plain": [
       "Document(page_content='3/21/24, 7:37 PM\\nAcademic Programs - Asian Institute of Technology\\nhttps://ait.ac.th/academics/programs/\\n2/9\\nAll Programs\\nAgri-Business Management\\n(ABM)\\nAgricultural Systems And\\nEngineering (ASE)\\nAquaculture and Aqua�c\\nResources Management\\n(AARM)\\nBio-Nano Materials Science\\nand Engineering (BNMSE)\\nClimate Change and\\nSustainable Development\\n(CCSD)\\nComputer Science (CS)\\n (/)\\nWe use cookies on our website to give you the most relevant experience by remembering your preferences and repeat visits. By clicking “Accept\\nAll”, you consent to the use of ALL the cookies. However, you may visit \"Cookie Settings\" to provide a controlled consent.\\nCookie Settings\\nAccept All', metadata={'source': 'C:\\\\Users\\\\Haneesha\\\\OneDrive\\\\文件\\\\Boooooookkkkkkssss\\\\Academic Programs - Asian Institute of Technology.pdf', 'file_path': 'C:\\\\Users\\\\Haneesha\\\\OneDrive\\\\文件\\\\Boooooookkkkkkssss\\\\Academic Programs - Asian Institute of Technology.pdf', 'page': 1, 'total_pages': 9, 'format': 'PDF 1.4', 'title': '', 'author': '', 'subject': '', 'keywords': '', 'creator': 'Mozilla/5.0 (Windows NT 10.0; Win64; x64) AppleWebKit/537.36 (KHTML, like Gecko) Chrome/122.0.0.0 Safari/537.36', 'producer': 'Skia/PDF m122', 'creationDate': \"D:20240321123743+00'00'\", 'modDate': \"D:20240321123743+00'00'\", 'trapped': ''})"
      ]
     },
     "execution_count": 9,
     "metadata": {},
     "output_type": "execute_result"
    }
   ],
   "source": [
    "doc[1]"
   ]
  },
  {
   "cell_type": "code",
   "execution_count": 10,
   "metadata": {},
   "outputs": [
    {
     "data": {
      "text/plain": [
       "13"
      ]
     },
     "execution_count": 10,
     "metadata": {},
     "output_type": "execute_result"
    }
   ],
   "source": [
    "len(doc)"
   ]
  },
  {
   "attachments": {},
   "cell_type": "markdown",
   "metadata": {},
   "source": [
    "### 2.3 Text Embedding Models\n",
    "Embeddings create a vector representation of a piece of text. This is useful because it means we can think about text in the vector space, and do things like semantic search where we look for pieces of text that are most similar in the vector space.\n",
    "\n",
    "*Note* Instructor Model : [Huggingface](gingface.co/hkunlp/instructor-base) | [Paper](https://arxiv.org/abs/2212.09741)"
   ]
  },
  {
   "cell_type": "code",
   "execution_count": 11,
   "metadata": {},
   "outputs": [
    {
     "name": "stderr",
     "output_type": "stream",
     "text": [
      "c:\\Users\\Haneesha\\AppData\\Local\\Programs\\Python\\Python311\\Lib\\site-packages\\InstructorEmbedding\\instructor.py:7: TqdmExperimentalWarning: Using `tqdm.autonotebook.tqdm` in notebook mode. Use `tqdm.tqdm` instead to force console mode (e.g. in jupyter console)\n",
      "  from tqdm.autonotebook import trange\n",
      "c:\\Users\\Haneesha\\AppData\\Local\\Programs\\Python\\Python311\\Lib\\site-packages\\transformers\\utils\\generic.py:441: UserWarning: torch.utils._pytree._register_pytree_node is deprecated. Please use torch.utils._pytree.register_pytree_node instead.\n",
      "  _torch_pytree._register_pytree_node(\n"
     ]
    },
    {
     "name": "stdout",
     "output_type": "stream",
     "text": [
      "load INSTRUCTOR_Transformer\n"
     ]
    },
    {
     "name": "stderr",
     "output_type": "stream",
     "text": [
      "c:\\Users\\Haneesha\\AppData\\Local\\Programs\\Python\\Python311\\Lib\\site-packages\\transformers\\utils\\generic.py:309: UserWarning: torch.utils._pytree._register_pytree_node is deprecated. Please use torch.utils._pytree.register_pytree_node instead.\n",
      "  _torch_pytree._register_pytree_node(\n",
      "c:\\Users\\Haneesha\\AppData\\Local\\Programs\\Python\\Python311\\Lib\\site-packages\\transformers\\utils\\generic.py:309: UserWarning: torch.utils._pytree._register_pytree_node is deprecated. Please use torch.utils._pytree.register_pytree_node instead.\n",
      "  _torch_pytree._register_pytree_node(\n"
     ]
    },
    {
     "name": "stdout",
     "output_type": "stream",
     "text": [
      "max_seq_length  512\n"
     ]
    }
   ],
   "source": [
    "import torch\n",
    "from langchain.embeddings import HuggingFaceInstructEmbeddings\n",
    "\n",
    "model_name = 'hkunlp/instructor-base'\n",
    "\n",
    "embedding_model = HuggingFaceInstructEmbeddings(\n",
    "    model_name = model_name,\n",
    "    model_kwargs = {\"device\" : device}\n",
    ")"
   ]
  },
  {
   "attachments": {},
   "cell_type": "markdown",
   "metadata": {},
   "source": [
    "### 2.4 Vector Stores\n",
    "\n",
    "One of the most common ways to store and search over unstructured data is to embed it and store the resulting embedding vectors, and then at query time to embed the unstructured query and retrieve the embedding vectors that are 'most similar' to the embedded query. A vector store takes care of storing embedded data and performing vector search for you."
   ]
  },
  {
   "cell_type": "code",
   "execution_count": 12,
   "metadata": {},
   "outputs": [],
   "source": [
    "#locate vectorstore\n",
    "vector_path = '../vector-store'\n",
    "if not os.path.exists(vector_path):\n",
    "    os.makedirs(vector_path)\n",
    "    print('create path done')"
   ]
  },
  {
   "cell_type": "code",
   "execution_count": 13,
   "metadata": {},
   "outputs": [],
   "source": [
    "#save vector locally\n",
    "from langchain.vectorstores import FAISS\n",
    "\n",
    "vectordb = FAISS.from_documents(\n",
    "    documents = doc,\n",
    "    embedding = embedding_model\n",
    ")\n",
    "\n",
    "db_file_name = 'nlp_stanford'\n",
    "\n",
    "vectordb.save_local(\n",
    "    folder_path = os.path.join(vector_path, db_file_name),\n",
    "    index_name = 'nlp' #default index\n",
    ")"
   ]
  },
  {
   "attachments": {},
   "cell_type": "markdown",
   "metadata": {},
   "source": [
    "### 2.5 retrievers\n",
    "A retriever is an interface that returns documents given an unstructured query. It is more general than a vector store. A retriever does not need to be able to store documents, only to return (or retrieve) them. Vector stores can be used as the backbone of a retriever, but there are other types of retrievers as well."
   ]
  },
  {
   "cell_type": "code",
   "execution_count": 14,
   "metadata": {},
   "outputs": [],
   "source": [
    "vectordb = FAISS.load_local(\n",
    "    folder_path = os.path.join(vector_path, db_file_name),\n",
    "    embeddings = embedding_model,\n",
    "    index_name = 'nlp', #default index\n",
    "    allow_dangerous_deserialization = True\n",
    ")\n"
   ]
  },
  {
   "cell_type": "code",
   "execution_count": 15,
   "metadata": {},
   "outputs": [
    {
     "ename": "ValueError",
     "evalue": "The de-serialization relies loading a pickle file. Pickle files can be modified to deliver a malicious payload that results in execution of arbitrary code on your machine.You will need to set `allow_dangerous_deserialization` to `True` to enable deserialization. If you do this, make sure that you trust the source of the data. For example, if you are loading a file that you created, and no that no one else has modified the file, then this is safe to do. Do not set this to `True` if you are loading a file from an untrusted source (e.g., some random site on the internet.).",
     "output_type": "error",
     "traceback": [
      "\u001b[1;31m---------------------------------------------------------------------------\u001b[0m",
      "\u001b[1;31mValueError\u001b[0m                                Traceback (most recent call last)",
      "Cell \u001b[1;32mIn[15], line 7\u001b[0m\n\u001b[0;32m      3\u001b[0m db_file_name \u001b[38;5;241m=\u001b[39m \u001b[38;5;124m'\u001b[39m\u001b[38;5;124mnlp_stanford\u001b[39m\u001b[38;5;124m'\u001b[39m\n\u001b[0;32m      5\u001b[0m \u001b[38;5;28;01mfrom\u001b[39;00m \u001b[38;5;21;01mlangchain\u001b[39;00m\u001b[38;5;21;01m.\u001b[39;00m\u001b[38;5;21;01mvectorstores\u001b[39;00m \u001b[38;5;28;01mimport\u001b[39;00m FAISS\n\u001b[1;32m----> 7\u001b[0m vectordb \u001b[38;5;241m=\u001b[39m \u001b[43mFAISS\u001b[49m\u001b[38;5;241;43m.\u001b[39;49m\u001b[43mload_local\u001b[49m\u001b[43m(\u001b[49m\n\u001b[0;32m      8\u001b[0m \u001b[43m    \u001b[49m\u001b[43mfolder_path\u001b[49m\u001b[43m \u001b[49m\u001b[38;5;241;43m=\u001b[39;49m\u001b[43m \u001b[49m\u001b[43mos\u001b[49m\u001b[38;5;241;43m.\u001b[39;49m\u001b[43mpath\u001b[49m\u001b[38;5;241;43m.\u001b[39;49m\u001b[43mjoin\u001b[49m\u001b[43m(\u001b[49m\u001b[43mvector_path\u001b[49m\u001b[43m,\u001b[49m\u001b[43m \u001b[49m\u001b[43mdb_file_name\u001b[49m\u001b[43m)\u001b[49m\u001b[43m,\u001b[49m\n\u001b[0;32m      9\u001b[0m \u001b[43m    \u001b[49m\u001b[43membeddings\u001b[49m\u001b[43m \u001b[49m\u001b[38;5;241;43m=\u001b[39;49m\u001b[43m \u001b[49m\u001b[43membedding_model\u001b[49m\u001b[43m,\u001b[49m\n\u001b[0;32m     10\u001b[0m \u001b[43m    \u001b[49m\u001b[43mindex_name\u001b[49m\u001b[43m \u001b[49m\u001b[38;5;241;43m=\u001b[39;49m\u001b[43m \u001b[49m\u001b[38;5;124;43m'\u001b[39;49m\u001b[38;5;124;43mnlp\u001b[39;49m\u001b[38;5;124;43m'\u001b[39;49m\u001b[43m \u001b[49m\u001b[38;5;66;43;03m#default index\u001b[39;49;00m\n\u001b[0;32m     11\u001b[0m \u001b[43m)\u001b[49m   \n",
      "File \u001b[1;32mc:\\Users\\Haneesha\\AppData\\Local\\Programs\\Python\\Python311\\Lib\\site-packages\\langchain_community\\vectorstores\\faiss.py:1078\u001b[0m, in \u001b[0;36mFAISS.load_local\u001b[1;34m(cls, folder_path, embeddings, index_name, allow_dangerous_deserialization, **kwargs)\u001b[0m\n\u001b[0;32m   1063\u001b[0m \u001b[38;5;250m\u001b[39m\u001b[38;5;124;03m\"\"\"Load FAISS index, docstore, and index_to_docstore_id from disk.\u001b[39;00m\n\u001b[0;32m   1064\u001b[0m \n\u001b[0;32m   1065\u001b[0m \u001b[38;5;124;03mArgs:\u001b[39;00m\n\u001b[1;32m   (...)\u001b[0m\n\u001b[0;32m   1075\u001b[0m \u001b[38;5;124;03m    asynchronous: whether to use async version or not\u001b[39;00m\n\u001b[0;32m   1076\u001b[0m \u001b[38;5;124;03m\"\"\"\u001b[39;00m\n\u001b[0;32m   1077\u001b[0m \u001b[38;5;28;01mif\u001b[39;00m \u001b[38;5;129;01mnot\u001b[39;00m allow_dangerous_deserialization:\n\u001b[1;32m-> 1078\u001b[0m     \u001b[38;5;28;01mraise\u001b[39;00m \u001b[38;5;167;01mValueError\u001b[39;00m(\n\u001b[0;32m   1079\u001b[0m         \u001b[38;5;124m\"\u001b[39m\u001b[38;5;124mThe de-serialization relies loading a pickle file. \u001b[39m\u001b[38;5;124m\"\u001b[39m\n\u001b[0;32m   1080\u001b[0m         \u001b[38;5;124m\"\u001b[39m\u001b[38;5;124mPickle files can be modified to deliver a malicious payload that \u001b[39m\u001b[38;5;124m\"\u001b[39m\n\u001b[0;32m   1081\u001b[0m         \u001b[38;5;124m\"\u001b[39m\u001b[38;5;124mresults in execution of arbitrary code on your machine.\u001b[39m\u001b[38;5;124m\"\u001b[39m\n\u001b[0;32m   1082\u001b[0m         \u001b[38;5;124m\"\u001b[39m\u001b[38;5;124mYou will need to set `allow_dangerous_deserialization` to `True` to \u001b[39m\u001b[38;5;124m\"\u001b[39m\n\u001b[0;32m   1083\u001b[0m         \u001b[38;5;124m\"\u001b[39m\u001b[38;5;124menable deserialization. If you do this, make sure that you \u001b[39m\u001b[38;5;124m\"\u001b[39m\n\u001b[0;32m   1084\u001b[0m         \u001b[38;5;124m\"\u001b[39m\u001b[38;5;124mtrust the source of the data. For example, if you are loading a \u001b[39m\u001b[38;5;124m\"\u001b[39m\n\u001b[0;32m   1085\u001b[0m         \u001b[38;5;124m\"\u001b[39m\u001b[38;5;124mfile that you created, and no that no one else has modified the file, \u001b[39m\u001b[38;5;124m\"\u001b[39m\n\u001b[0;32m   1086\u001b[0m         \u001b[38;5;124m\"\u001b[39m\u001b[38;5;124mthen this is safe to do. Do not set this to `True` if you are loading \u001b[39m\u001b[38;5;124m\"\u001b[39m\n\u001b[0;32m   1087\u001b[0m         \u001b[38;5;124m\"\u001b[39m\u001b[38;5;124ma file from an untrusted source (e.g., some random site on the \u001b[39m\u001b[38;5;124m\"\u001b[39m\n\u001b[0;32m   1088\u001b[0m         \u001b[38;5;124m\"\u001b[39m\u001b[38;5;124minternet.).\u001b[39m\u001b[38;5;124m\"\u001b[39m\n\u001b[0;32m   1089\u001b[0m     )\n\u001b[0;32m   1090\u001b[0m path \u001b[38;5;241m=\u001b[39m Path(folder_path)\n\u001b[0;32m   1091\u001b[0m \u001b[38;5;66;03m# load index separately since it is not picklable\u001b[39;00m\n",
      "\u001b[1;31mValueError\u001b[0m: The de-serialization relies loading a pickle file. Pickle files can be modified to deliver a malicious payload that results in execution of arbitrary code on your machine.You will need to set `allow_dangerous_deserialization` to `True` to enable deserialization. If you do this, make sure that you trust the source of the data. For example, if you are loading a file that you created, and no that no one else has modified the file, then this is safe to do. Do not set this to `True` if you are loading a file from an untrusted source (e.g., some random site on the internet.)."
     ]
    }
   ],
   "source": [
    "#calling vector from local\n",
    "vector_path = '../vector-store'\n",
    "db_file_name = 'nlp_stanford'\n",
    "\n",
    "from langchain.vectorstores import FAISS\n",
    "\n",
    "vectordb = FAISS.load_local(\n",
    "    folder_path = os.path.join(vector_path, db_file_name),\n",
    "    embeddings = embedding_model,\n",
    "    index_name = 'nlp' #default index\n",
    ")   "
   ]
  },
  {
   "cell_type": "code",
   "execution_count": 16,
   "metadata": {},
   "outputs": [],
   "source": [
    "#ready to use\n",
    "retriever = vectordb.as_retriever()"
   ]
  },
  {
   "cell_type": "code",
   "execution_count": 17,
   "metadata": {},
   "outputs": [
    {
     "data": {
      "text/plain": [
       "[Document(page_content='3/21/24, 7:37 PM\\nAcademic Programs - Asian Institute of Technology\\nhttps://ait.ac.th/academics/programs/\\n2/9\\nAll Programs\\nAgri-Business Management\\n(ABM)\\nAgricultural Systems And\\nEngineering (ASE)\\nAquaculture and Aqua�c\\nResources Management\\n(AARM)\\nBio-Nano Materials Science\\nand Engineering (BNMSE)\\nClimate Change and\\nSustainable Development\\n(CCSD)\\nComputer Science (CS)\\n (/)\\nWe use cookies on our website to give you the most relevant experience by remembering your preferences and repeat visits. By clicking “Accept\\nAll”, you consent to the use of ALL the cookies. However, you may visit \"Cookie Settings\" to provide a controlled consent.\\nCookie Settings\\nAccept All', metadata={'source': 'C:\\\\Users\\\\Haneesha\\\\OneDrive\\\\文件\\\\Boooooookkkkkkssss\\\\Academic Programs - Asian Institute of Technology.pdf', 'file_path': 'C:\\\\Users\\\\Haneesha\\\\OneDrive\\\\文件\\\\Boooooookkkkkkssss\\\\Academic Programs - Asian Institute of Technology.pdf', 'page': 1, 'total_pages': 9, 'format': 'PDF 1.4', 'title': '', 'author': '', 'subject': '', 'keywords': '', 'creator': 'Mozilla/5.0 (Windows NT 10.0; Win64; x64) AppleWebKit/537.36 (KHTML, like Gecko) Chrome/122.0.0.0 Safari/537.36', 'producer': 'Skia/PDF m122', 'creationDate': \"D:20240321123743+00'00'\", 'modDate': \"D:20240321123743+00'00'\", 'trapped': ''}),\n",
       " Document(page_content='3/21/24, 7:37 PM\\nAcademic Programs - Asian Institute of Technology\\nhttps://ait.ac.th/academics/programs/\\n4/9\\nDoctorate of Business\\nAdministra�on (DBA)\\nDual Degree Master’s\\nProgram with Telecom Sud\\nParis (France)\\nDual Degree Master’s\\nProgram in Data Science\\nand AI with Brunel\\nUniversity London (UK)\\nDual Degree Master’s\\nProgram in Geotechnical\\nand Earth Resources\\nEngineering with Colorado\\nState University (USA)\\nDual Degree Master’s\\nProgram in Water\\nEngineering and\\nManagement with Colorado\\nState University (USA)\\nDual Degree Master’s\\nProgram in Water\\nEngineering and\\nManagement with the\\nUniversity of Iowa (USA)\\n (/)', metadata={'source': 'C:\\\\Users\\\\Haneesha\\\\OneDrive\\\\文件\\\\Boooooookkkkkkssss\\\\Academic Programs - Asian Institute of Technology.pdf', 'file_path': 'C:\\\\Users\\\\Haneesha\\\\OneDrive\\\\文件\\\\Boooooookkkkkkssss\\\\Academic Programs - Asian Institute of Technology.pdf', 'page': 3, 'total_pages': 9, 'format': 'PDF 1.4', 'title': '', 'author': '', 'subject': '', 'keywords': '', 'creator': 'Mozilla/5.0 (Windows NT 10.0; Win64; x64) AppleWebKit/537.36 (KHTML, like Gecko) Chrome/122.0.0.0 Safari/537.36', 'producer': 'Skia/PDF m122', 'creationDate': \"D:20240321123743+00'00'\", 'modDate': \"D:20240321123743+00'00'\", 'trapped': ''}),\n",
       " Document(page_content='3/21/24, 7:37 PM\\nAcademic Programs - Asian Institute of Technology\\nhttps://ait.ac.th/academics/programs/\\n3/9\\nConstruc�on, Engineering\\nand Infrastructure\\nManagement (CEIM)\\nData Science and AI (DSAI)\\nDevelopment and\\nSustainability (DS)\\nDevelopment Planning\\nManagement and\\nInnova�on (DPMI)\\nDisaster Preparedness\\nMi�ga�on and Management\\n(DPMM)\\nDoctor of Philosophy (Ph.D.)\\nin Management\\n (/)\\nWe use cookies on our website to give you the most relevant experience by remembering your preferences and repeat visits. By clicking “Accept\\nAll”, you consent to the use of ALL the cookies. However, you may visit \"Cookie Settings\" to provide a controlled consent.\\nCookie Settings\\nAccept All', metadata={'source': 'C:\\\\Users\\\\Haneesha\\\\OneDrive\\\\文件\\\\Boooooookkkkkkssss\\\\Academic Programs - Asian Institute of Technology.pdf', 'file_path': 'C:\\\\Users\\\\Haneesha\\\\OneDrive\\\\文件\\\\Boooooookkkkkkssss\\\\Academic Programs - Asian Institute of Technology.pdf', 'page': 2, 'total_pages': 9, 'format': 'PDF 1.4', 'title': '', 'author': '', 'subject': '', 'keywords': '', 'creator': 'Mozilla/5.0 (Windows NT 10.0; Win64; x64) AppleWebKit/537.36 (KHTML, like Gecko) Chrome/122.0.0.0 Safari/537.36', 'producer': 'Skia/PDF m122', 'creationDate': \"D:20240321123743+00'00'\", 'modDate': \"D:20240321123743+00'00'\", 'trapped': ''}),\n",
       " Document(page_content='Program in Water\\nEngineering and\\nManagement with the\\nUniversity of Iowa (USA)\\n (/)\\nWe use cookies on our website to give you the most relevant experience by remembering your preferences and repeat visits. By clicking “Accept\\nAll”, you consent to the use of ALL the cookies. However, you may visit \"Cookie Settings\" to provide a controlled consent.\\nCookie Settings\\nAccept All', metadata={'source': 'C:\\\\Users\\\\Haneesha\\\\OneDrive\\\\文件\\\\Boooooookkkkkkssss\\\\Academic Programs - Asian Institute of Technology.pdf', 'file_path': 'C:\\\\Users\\\\Haneesha\\\\OneDrive\\\\文件\\\\Boooooookkkkkkssss\\\\Academic Programs - Asian Institute of Technology.pdf', 'page': 3, 'total_pages': 9, 'format': 'PDF 1.4', 'title': '', 'author': '', 'subject': '', 'keywords': '', 'creator': 'Mozilla/5.0 (Windows NT 10.0; Win64; x64) AppleWebKit/537.36 (KHTML, like Gecko) Chrome/122.0.0.0 Safari/537.36', 'producer': 'Skia/PDF m122', 'creationDate': \"D:20240321123743+00'00'\", 'modDate': \"D:20240321123743+00'00'\", 'trapped': ''})]"
      ]
     },
     "execution_count": 17,
     "metadata": {},
     "output_type": "execute_result"
    }
   ],
   "source": [
    "retriever.get_relevant_documents(\"What are the course structure in Agri-Business Management?\")"
   ]
  },
  {
   "cell_type": "code",
   "execution_count": 18,
   "metadata": {},
   "outputs": [
    {
     "data": {
      "text/plain": [
       "[Document(page_content='3/21/24, 7:37 PM\\nAcademic Programs - Asian Institute of Technology\\nhttps://ait.ac.th/academics/programs/\\n9/9\\n©2022 Asian Institute of Technology. All Rights Reserved. - Designed by Outsourcify (https://outsourcify.net)\\n (/)\\nWe use cookies on our website to give you the most relevant experience by remembering your preferences and repeat visits. By clicking “Accept\\nAll”, you consent to the use of ALL the cookies. However, you may visit \"Cookie Settings\" to provide a controlled consent.\\nCookie Settings\\nAccept All', metadata={'source': 'C:\\\\Users\\\\Haneesha\\\\OneDrive\\\\文件\\\\Boooooookkkkkkssss\\\\Academic Programs - Asian Institute of Technology.pdf', 'file_path': 'C:\\\\Users\\\\Haneesha\\\\OneDrive\\\\文件\\\\Boooooookkkkkkssss\\\\Academic Programs - Asian Institute of Technology.pdf', 'page': 8, 'total_pages': 9, 'format': 'PDF 1.4', 'title': '', 'author': '', 'subject': '', 'keywords': '', 'creator': 'Mozilla/5.0 (Windows NT 10.0; Win64; x64) AppleWebKit/537.36 (KHTML, like Gecko) Chrome/122.0.0.0 Safari/537.36', 'producer': 'Skia/PDF m122', 'creationDate': \"D:20240321123743+00'00'\", 'modDate': \"D:20240321123743+00'00'\", 'trapped': ''}),\n",
       " Document(page_content='3/21/24, 7:37 PM\\nAcademic Programs - Asian Institute of Technology\\nhttps://ait.ac.th/academics/programs/\\n3/9\\nConstruc�on, Engineering\\nand Infrastructure\\nManagement (CEIM)\\nData Science and AI (DSAI)\\nDevelopment and\\nSustainability (DS)\\nDevelopment Planning\\nManagement and\\nInnova�on (DPMI)\\nDisaster Preparedness\\nMi�ga�on and Management\\n(DPMM)\\nDoctor of Philosophy (Ph.D.)\\nin Management\\n (/)\\nWe use cookies on our website to give you the most relevant experience by remembering your preferences and repeat visits. By clicking “Accept\\nAll”, you consent to the use of ALL the cookies. However, you may visit \"Cookie Settings\" to provide a controlled consent.\\nCookie Settings\\nAccept All', metadata={'source': 'C:\\\\Users\\\\Haneesha\\\\OneDrive\\\\文件\\\\Boooooookkkkkkssss\\\\Academic Programs - Asian Institute of Technology.pdf', 'file_path': 'C:\\\\Users\\\\Haneesha\\\\OneDrive\\\\文件\\\\Boooooookkkkkkssss\\\\Academic Programs - Asian Institute of Technology.pdf', 'page': 2, 'total_pages': 9, 'format': 'PDF 1.4', 'title': '', 'author': '', 'subject': '', 'keywords': '', 'creator': 'Mozilla/5.0 (Windows NT 10.0; Win64; x64) AppleWebKit/537.36 (KHTML, like Gecko) Chrome/122.0.0.0 Safari/537.36', 'producer': 'Skia/PDF m122', 'creationDate': \"D:20240321123743+00'00'\", 'modDate': \"D:20240321123743+00'00'\", 'trapped': ''}),\n",
       " Document(page_content='3/21/24, 7:37 PM\\nAcademic Programs - Asian Institute of Technology\\nhttps://ait.ac.th/academics/programs/\\n2/9\\nAll Programs\\nAgri-Business Management\\n(ABM)\\nAgricultural Systems And\\nEngineering (ASE)\\nAquaculture and Aqua�c\\nResources Management\\n(AARM)\\nBio-Nano Materials Science\\nand Engineering (BNMSE)\\nClimate Change and\\nSustainable Development\\n(CCSD)\\nComputer Science (CS)\\n (/)\\nWe use cookies on our website to give you the most relevant experience by remembering your preferences and repeat visits. By clicking “Accept\\nAll”, you consent to the use of ALL the cookies. However, you may visit \"Cookie Settings\" to provide a controlled consent.\\nCookie Settings\\nAccept All', metadata={'source': 'C:\\\\Users\\\\Haneesha\\\\OneDrive\\\\文件\\\\Boooooookkkkkkssss\\\\Academic Programs - Asian Institute of Technology.pdf', 'file_path': 'C:\\\\Users\\\\Haneesha\\\\OneDrive\\\\文件\\\\Boooooookkkkkkssss\\\\Academic Programs - Asian Institute of Technology.pdf', 'page': 1, 'total_pages': 9, 'format': 'PDF 1.4', 'title': '', 'author': '', 'subject': '', 'keywords': '', 'creator': 'Mozilla/5.0 (Windows NT 10.0; Win64; x64) AppleWebKit/537.36 (KHTML, like Gecko) Chrome/122.0.0.0 Safari/537.36', 'producer': 'Skia/PDF m122', 'creationDate': \"D:20240321123743+00'00'\", 'modDate': \"D:20240321123743+00'00'\", 'trapped': ''}),\n",
       " Document(page_content='3/21/24, 7:37 PM\\nAcademic Programs - Asian Institute of Technology\\nhttps://ait.ac.th/academics/programs/\\n4/9\\nDoctorate of Business\\nAdministra�on (DBA)\\nDual Degree Master’s\\nProgram with Telecom Sud\\nParis (France)\\nDual Degree Master’s\\nProgram in Data Science\\nand AI with Brunel\\nUniversity London (UK)\\nDual Degree Master’s\\nProgram in Geotechnical\\nand Earth Resources\\nEngineering with Colorado\\nState University (USA)\\nDual Degree Master’s\\nProgram in Water\\nEngineering and\\nManagement with Colorado\\nState University (USA)\\nDual Degree Master’s\\nProgram in Water\\nEngineering and\\nManagement with the\\nUniversity of Iowa (USA)\\n (/)', metadata={'source': 'C:\\\\Users\\\\Haneesha\\\\OneDrive\\\\文件\\\\Boooooookkkkkkssss\\\\Academic Programs - Asian Institute of Technology.pdf', 'file_path': 'C:\\\\Users\\\\Haneesha\\\\OneDrive\\\\文件\\\\Boooooookkkkkkssss\\\\Academic Programs - Asian Institute of Technology.pdf', 'page': 3, 'total_pages': 9, 'format': 'PDF 1.4', 'title': '', 'author': '', 'subject': '', 'keywords': '', 'creator': 'Mozilla/5.0 (Windows NT 10.0; Win64; x64) AppleWebKit/537.36 (KHTML, like Gecko) Chrome/122.0.0.0 Safari/537.36', 'producer': 'Skia/PDF m122', 'creationDate': \"D:20240321123743+00'00'\", 'modDate': \"D:20240321123743+00'00'\", 'trapped': ''})]"
      ]
     },
     "execution_count": 18,
     "metadata": {},
     "output_type": "execute_result"
    }
   ],
   "source": [
    "retriever.get_relevant_documents(\"Who are the faculty in Data Science and AI?\")"
   ]
  },
  {
   "attachments": {},
   "cell_type": "markdown",
   "metadata": {},
   "source": [
    "## 3. Memory\n",
    "\n",
    "One of the core utility classes underpinning most (if not all) memory modules is the ChatMessageHistory class. This is a super lightweight wrapper that provides convenience methods for saving HumanMessages, AIMessages, and then fetching them all.\n",
    "\n",
    "You may want to use this class directly if you are managing memory outside of a chain.\n"
   ]
  },
  {
   "cell_type": "code",
   "execution_count": 19,
   "metadata": {},
   "outputs": [
    {
     "data": {
      "text/plain": [
       "ChatMessageHistory(messages=[])"
      ]
     },
     "execution_count": 19,
     "metadata": {},
     "output_type": "execute_result"
    }
   ],
   "source": [
    "from langchain.memory import ChatMessageHistory\n",
    "\n",
    "history = ChatMessageHistory()\n",
    "history"
   ]
  },
  {
   "cell_type": "code",
   "execution_count": 20,
   "metadata": {},
   "outputs": [],
   "source": [
    "history.add_user_message('hi')\n",
    "history.add_ai_message('Whats up?')\n",
    "history.add_user_message('How are you')\n",
    "history.add_ai_message('I\\'m quite good. How about you?')"
   ]
  },
  {
   "cell_type": "code",
   "execution_count": 21,
   "metadata": {},
   "outputs": [
    {
     "data": {
      "text/plain": [
       "ChatMessageHistory(messages=[HumanMessage(content='hi'), AIMessage(content='Whats up?'), HumanMessage(content='How are you'), AIMessage(content=\"I'm quite good. How about you?\")])"
      ]
     },
     "execution_count": 21,
     "metadata": {},
     "output_type": "execute_result"
    }
   ],
   "source": [
    "history"
   ]
  },
  {
   "attachments": {},
   "cell_type": "markdown",
   "metadata": {},
   "source": [
    "### 3.1 Memory types\n",
    "\n",
    "There are many different types of memory. Each has their own parameters, their own return types, and is useful in different scenarios. \n",
    "- Converstaion Buffer\n",
    "- Converstaion Buffer Window"
   ]
  },
  {
   "attachments": {},
   "cell_type": "markdown",
   "metadata": {},
   "source": [
    "What variables get returned from memory\n",
    "\n",
    "Before going into the chain, various variables are read from memory. These have specific names which need to align with the variables the chain expects. You can see what these variables are by calling memory.load_memory_variables({}). Note that the empty dictionary that we pass in is just a placeholder for real variables. If the memory type you are using is dependent upon the input variables, you may need to pass some in."
   ]
  },
  {
   "attachments": {},
   "cell_type": "markdown",
   "metadata": {},
   "source": [
    "In this case, you can see that load_memory_variables returns a single key, history. This means that your chain (and likely your prompt) should expect an input named history. You can usually control this variable through parameters on the memory class. For example, if you want the memory variables to be returned in the key chat_history you can do:"
   ]
  },
  {
   "attachments": {},
   "cell_type": "markdown",
   "metadata": {},
   "source": [
    "#### Converstaion Buffer\n",
    "This memory allows for storing messages and then extracts the messages in a variable."
   ]
  },
  {
   "cell_type": "code",
   "execution_count": 22,
   "metadata": {},
   "outputs": [
    {
     "data": {
      "text/plain": [
       "{'history': \"Human: hi\\nAI: What's up?\\nHuman: How are you?\\nAI: I'm quite good. How about you?\"}"
      ]
     },
     "execution_count": 22,
     "metadata": {},
     "output_type": "execute_result"
    }
   ],
   "source": [
    "from langchain.memory import ConversationBufferMemory\n",
    "\n",
    "memory = ConversationBufferMemory()\n",
    "memory.save_context({'input':'hi'}, {'output':'What\\'s up?'})\n",
    "memory.save_context({\"input\":'How are you?'},{'output': 'I\\'m quite good. How about you?'})\n",
    "memory.load_memory_variables({})"
   ]
  },
  {
   "cell_type": "code",
   "execution_count": 23,
   "metadata": {},
   "outputs": [
    {
     "data": {
      "text/plain": [
       "{'history': [HumanMessage(content='hi'),\n",
       "  AIMessage(content=\"What's up?\"),\n",
       "  HumanMessage(content='How are you?'),\n",
       "  AIMessage(content=\"I'm quite good. How about you?\")]}"
      ]
     },
     "execution_count": 23,
     "metadata": {},
     "output_type": "execute_result"
    }
   ],
   "source": [
    "from langchain.memory import ConversationBufferMemory\n",
    "\n",
    "memory = ConversationBufferMemory(return_messages = True)\n",
    "memory.save_context({'input':'hi'}, {'output':'What\\'s up?'})\n",
    "memory.save_context({\"input\":'How are you?'},{'output': 'I\\'m quite good. How about you?'})\n",
    "memory.load_memory_variables({})"
   ]
  },
  {
   "attachments": {},
   "cell_type": "markdown",
   "metadata": {},
   "source": [
    "#### Conversation Buffer Window\n",
    "- it keeps a list of the interactions of the conversation over time. \n",
    "- it only uses the last K interactions. \n",
    "- it can be useful for keeping a sliding window of the most recent interactions, so the buffer does not get too large."
   ]
  },
  {
   "cell_type": "code",
   "execution_count": 24,
   "metadata": {},
   "outputs": [
    {
     "data": {
      "text/plain": [
       "{'history': \"Human: How are you?\\nAI: I'm quite good. How about you?\"}"
      ]
     },
     "execution_count": 24,
     "metadata": {},
     "output_type": "execute_result"
    }
   ],
   "source": [
    "from langchain.memory import ConversationBufferWindowMemory\n",
    "\n",
    "memory = ConversationBufferWindowMemory(k=1)\n",
    "memory.save_context({'input':'hi'}, {'output':'What\\'s up?'})\n",
    "memory.save_context({\"input\":'How are you?'},{'output': 'I\\'m quite good. How about you?'})\n",
    "memory.load_memory_variables({})"
   ]
  },
  {
   "attachments": {},
   "cell_type": "markdown",
   "metadata": {},
   "source": [
    "## 4. Chain\n",
    "\n",
    "Using an LLM in isolation is fine for simple applications, but more complex applications require chaining LLMs - either with each other or with other components.\n",
    "\n",
    "An `LLMChain` is a simple chain that adds some functionality around language models.\n",
    "- it consists of a `PromptTemplate` and a `LM` (either an LLM or chat model).\n",
    "- it formats the prompt template using the input key values provided (and also memory key values, if available), \n",
    "- it passes the formatted string to LLM and returns the LLM output.\n",
    "\n",
    "Note : [Download Fastchat Model Here](https://huggingface.co/lmsys/fastchat-t5-3b-v1.0)"
   ]
  },
  {
   "cell_type": "code",
   "execution_count": 34,
   "metadata": {},
   "outputs": [
    {
     "name": "stdout",
     "output_type": "stream",
     "text": [
      "[WinError 2] The system cannot find the file specified: './models'\n",
      "c:\\Users\\Haneesha\\OneDrive\\Desktop\\NLP\\A7\n"
     ]
    },
    {
     "name": "stderr",
     "output_type": "stream",
     "text": [
      "'git' is not recognized as an internal or external command,\n",
      "operable program or batch file.\n"
     ]
    }
   ],
   "source": [
    "%cd ./models\n",
    "!git clone 'https://huggingface.co/lmsys/fastchat-t5-3b-v1.0'"
   ]
  },
  {
   "cell_type": "code",
   "execution_count": 38,
   "metadata": {},
   "outputs": [
    {
     "name": "stderr",
     "output_type": "stream",
     "text": [
      "Special tokens have been added in the vocabulary, make sure the associated word embeddings are fine-tuned or trained.\n",
      "Special tokens have been added in the vocabulary, make sure the associated word embeddings are fine-tuned or trained.\n"
     ]
    },
    {
     "data": {
      "application/vnd.jupyter.widget-view+json": {
       "model_id": "5e24a019fe0c47189b03aee91bf3f0c2",
       "version_major": 2,
       "version_minor": 0
      },
      "text/plain": [
       "pytorch_model.bin:   0%|          | 0.00/6.71G [00:00<?, ?B/s]"
      ]
     },
     "metadata": {},
     "output_type": "display_data"
    },
    {
     "name": "stderr",
     "output_type": "stream",
     "text": [
      "c:\\Users\\Haneesha\\AppData\\Local\\Programs\\Python\\Python311\\Lib\\site-packages\\huggingface_hub\\file_download.py:149: UserWarning: `huggingface_hub` cache-system uses symlinks by default to efficiently store duplicated files but your machine does not support them in C:\\Users\\Haneesha\\.cache\\huggingface\\hub\\models--lmsys--fastchat-t5-3b-v1.0. Caching files will still work but in a degraded version that might require more space on your disk. This warning can be disabled by setting the `HF_HUB_DISABLE_SYMLINKS_WARNING` environment variable. For more details, see https://huggingface.co/docs/huggingface_hub/how-to-cache#limitations.\n",
      "To support symlinks on Windows, you either need to activate Developer Mode or to run Python as an administrator. In order to see activate developer mode, see this article: https://docs.microsoft.com/en-us/windows/apps/get-started/enable-your-device-for-development\n",
      "  warnings.warn(message)\n"
     ]
    },
    {
     "data": {
      "application/vnd.jupyter.widget-view+json": {
       "model_id": "501f4d17a93142fa815a18b70b234ae2",
       "version_major": 2,
       "version_minor": 0
      },
      "text/plain": [
       "generation_config.json:   0%|          | 0.00/142 [00:00<?, ?B/s]"
      ]
     },
     "metadata": {},
     "output_type": "display_data"
    }
   ],
   "source": [
    "# Load model directly\n",
    "from transformers import AutoTokenizer, AutoModelForSeq2SeqLM\n",
    "\n",
    "tokenizer = AutoTokenizer.from_pretrained(\"lmsys/fastchat-t5-3b-v1.0\")\n",
    "model = AutoModelForSeq2SeqLM.from_pretrained(\"lmsys/fastchat-t5-3b-v1.0\")"
   ]
  },
  {
   "cell_type": "code",
   "execution_count": 44,
   "metadata": {},
   "outputs": [
    {
     "name": "stderr",
     "output_type": "stream",
     "text": [
      "Special tokens have been added in the vocabulary, make sure the associated word embeddings are fine-tuned or trained.\n",
      "Special tokens have been added in the vocabulary, make sure the associated word embeddings are fine-tuned or trained.\n"
     ]
    }
   ],
   "source": [
    "from transformers import AutoTokenizer, pipeline, AutoModelForSeq2SeqLM\n",
    "from langchain import HuggingFacePipeline\n",
    "\n",
    "model_id = \"lmsys/fastchat-t5-3b-v1.0\"\n",
    "\n",
    "tokenizer = AutoTokenizer.from_pretrained(model_id)\n",
    "tokenizer.pad_token_id = tokenizer.eos_token_id\n",
    "\n",
    "model = AutoModelForSeq2SeqLM.from_pretrained(model_id)\n",
    "\n",
    "pipe = pipeline(\n",
    "    task=\"text2text-generation\",\n",
    "    model=model,\n",
    "    tokenizer=tokenizer,\n",
    "    max_new_tokens=256,\n",
    "    model_kwargs={\n",
    "        \"temperature\": 0,\n",
    "        \"repetition_penalty\": 1.5\n",
    "    }\n",
    ")\n",
    "\n",
    "llm = HuggingFacePipeline(pipeline=pipe)"
   ]
  },
  {
   "attachments": {},
   "cell_type": "markdown",
   "metadata": {},
   "source": [
    "### [Class ConversationalRetrievalChain](https://api.python.langchain.com/en/latest/_modules/langchain/chains/conversational_retrieval/base.html#ConversationalRetrievalChain)\n",
    "\n",
    "- `retriever` : Retriever to use to fetch documents.\n",
    "\n",
    "- `combine_docs_chain` : The chain used to combine any retrieved documents.\n",
    "\n",
    "- `question_generator`: The chain used to generate a new question for the sake of retrieval. This chain will take in the current question (with variable question) and any chat history (with variable chat_history) and will produce a new standalone question to be used later on.\n",
    "\n",
    "- `return_source_documents` : Return the retrieved source documents as part of the final result.\n",
    "\n",
    "- `get_chat_history` : An optional function to get a string of the chat history. If None is provided, will use a default.\n",
    "\n",
    "- `return_generated_question` : Return the generated question as part of the final result.\n",
    "\n",
    "- `response_if_no_docs_found` : If specified, the chain will return a fixed response if no docs are found for the question.\n"
   ]
  },
  {
   "attachments": {},
   "cell_type": "markdown",
   "metadata": {},
   "source": [
    "`question_generator`"
   ]
  },
  {
   "cell_type": "code",
   "execution_count": 45,
   "metadata": {},
   "outputs": [],
   "source": [
    "from langchain.chains import LLMChain\n",
    "from langchain.chains.conversational_retrieval.prompts import CONDENSE_QUESTION_PROMPT\n",
    "from langchain.memory import ConversationBufferWindowMemory\n",
    "from langchain.chains.question_answering import load_qa_chain\n",
    "from langchain.chains import ConversationalRetrievalChain"
   ]
  },
  {
   "cell_type": "code",
   "execution_count": 46,
   "metadata": {},
   "outputs": [
    {
     "data": {
      "text/plain": [
       "PromptTemplate(input_variables=['chat_history', 'question'], template='Given the following conversation and a follow up question, rephrase the follow up question to be a standalone question, in its original language.\\n\\nChat History:\\n{chat_history}\\nFollow Up Input: {question}\\nStandalone question:')"
      ]
     },
     "execution_count": 46,
     "metadata": {},
     "output_type": "execute_result"
    }
   ],
   "source": [
    "CONDENSE_QUESTION_PROMPT"
   ]
  },
  {
   "cell_type": "code",
   "execution_count": 47,
   "metadata": {},
   "outputs": [],
   "source": [
    "question_generator = LLMChain(\n",
    "    llm = llm,\n",
    "    prompt = CONDENSE_QUESTION_PROMPT,\n",
    "    verbose = True\n",
    ")"
   ]
  },
  {
   "cell_type": "code",
   "execution_count": 48,
   "metadata": {},
   "outputs": [
    {
     "name": "stderr",
     "output_type": "stream",
     "text": [
      "c:\\Users\\Haneesha\\AppData\\Local\\Programs\\Python\\Python311\\Lib\\site-packages\\langchain_core\\_api\\deprecation.py:117: LangChainDeprecationWarning: The function `__call__` was deprecated in LangChain 0.1.0 and will be removed in 0.2.0. Use invoke instead.\n",
      "  warn_deprecated(\n"
     ]
    },
    {
     "name": "stdout",
     "output_type": "stream",
     "text": [
      "\n",
      "\n",
      "\u001b[1m> Entering new LLMChain chain...\u001b[0m\n",
      "Prompt after formatting:\n",
      "\u001b[32;1m\u001b[1;3mGiven the following conversation and a follow up question, rephrase the follow up question to be a standalone question, in its original language.\n",
      "\n",
      "Chat History:\n",
      "Human:What is Machine Learning\n",
      "AI:\n",
      "Human:What is Deep Learning\n",
      "AI:\n",
      "Follow Up Input: Comparing both of them\n",
      "Standalone question:\u001b[0m\n",
      "\n",
      "\u001b[1m> Finished chain.\u001b[0m\n"
     ]
    },
    {
     "data": {
      "text/plain": [
       "{'chat_history': 'Human:What is Machine Learning\\nAI:\\nHuman:What is Deep Learning\\nAI:',\n",
       " 'question': 'Comparing both of them',\n",
       " 'text': '<pad> What  are  the  main  differences  between  Machine  Learning  and  Deep  Learning  AI?\\n'}"
      ]
     },
     "execution_count": 48,
     "metadata": {},
     "output_type": "execute_result"
    }
   ],
   "source": [
    "query = 'Comparing both of them'\n",
    "chat_history = \"Human:What is Machine Learning\\nAI:\\nHuman:What is Deep Learning\\nAI:\"\n",
    "\n",
    "question_generator({'chat_history' : chat_history, \"question\" : query})"
   ]
  },
  {
   "attachments": {},
   "cell_type": "markdown",
   "metadata": {},
   "source": [
    "`combine_docs_chain`"
   ]
  },
  {
   "cell_type": "code",
   "execution_count": 49,
   "metadata": {},
   "outputs": [
    {
     "data": {
      "text/plain": [
       "StuffDocumentsChain(verbose=True, llm_chain=LLMChain(verbose=True, prompt=PromptTemplate(input_variables=['context', 'question'], template='HI ,I am AIT LILbot. I am your study program bot .If you are looking for courses offered in AIT and which school offers which courses you can ask me, I am always ready to help you ^-^!\\n    {context}\\n    Question: {question}\\n    Answer:'), llm=HuggingFacePipeline(pipeline=<transformers.pipelines.text2text_generation.Text2TextGenerationPipeline object at 0x000002B2E71A9B90>)), document_variable_name='context')"
      ]
     },
     "execution_count": 49,
     "metadata": {},
     "output_type": "execute_result"
    }
   ],
   "source": [
    "doc_chain = load_qa_chain(\n",
    "    llm = llm,\n",
    "    chain_type = 'stuff',\n",
    "    prompt = PROMPT,\n",
    "    verbose = True\n",
    ")\n",
    "doc_chain"
   ]
  },
  {
   "cell_type": "code",
   "execution_count": 50,
   "metadata": {
    "scrolled": true
   },
   "outputs": [
    {
     "name": "stdout",
     "output_type": "stream",
     "text": [
      "\n",
      "\n",
      "\u001b[1m> Entering new StuffDocumentsChain chain...\u001b[0m\n",
      "\n",
      "\n",
      "\u001b[1m> Entering new LLMChain chain...\u001b[0m\n",
      "Prompt after formatting:\n",
      "\u001b[32;1m\u001b[1;3mHI ,I am AIT LILbot. I am your study program bot .If you are looking for courses offered in AIT and which school offers which courses you can ask me, I am always ready to help you ^-^!\n",
      "    3/21/24, 7:37 PM\n",
      "Academic Programs - Asian Institute of Technology\n",
      "https://ait.ac.th/academics/programs/\n",
      "9/9\n",
      "©2022 Asian Institute of Technology. All Rights Reserved. - Designed by Outsourcify (https://outsourcify.net)\n",
      " (/)\n",
      "We use cookies on our website to give you the most relevant experience by remembering your preferences and repeat visits. By clicking “Accept\n",
      "All”, you consent to the use of ALL the cookies. However, you may visit \"Cookie Settings\" to provide a controlled consent.\n",
      "Cookie Settings\n",
      "Accept All\n",
      "\n",
      "3/21/24, 7:37 PM\n",
      "Academic Programs - Asian Institute of Technology\n",
      "https://ait.ac.th/academics/programs/\n",
      "2/9\n",
      "All Programs\n",
      "Agri-Business Management\n",
      "(ABM)\n",
      "Agricultural Systems And\n",
      "Engineering (ASE)\n",
      "Aquaculture and Aqua�c\n",
      "Resources Management\n",
      "(AARM)\n",
      "Bio-Nano Materials Science\n",
      "and Engineering (BNMSE)\n",
      "Climate Change and\n",
      "Sustainable Development\n",
      "(CCSD)\n",
      "Computer Science (CS)\n",
      " (/)\n",
      "We use cookies on our website to give you the most relevant experience by remembering your preferences and repeat visits. By clicking “Accept\n",
      "All”, you consent to the use of ALL the cookies. However, you may visit \"Cookie Settings\" to provide a controlled consent.\n",
      "Cookie Settings\n",
      "Accept All\n",
      "\n",
      "3/21/24, 7:37 PM\n",
      "Academic Programs - Asian Institute of Technology\n",
      "https://ait.ac.th/academics/programs/\n",
      "1/9\n",
      "Home (h�ps://ait.ac.th) > Academics (h�ps://ait.ac.th… > Academic Programs\n",
      "Academic Programs\n",
      "We oﬀer various degree programs. You'll sample courses in a wide range of\n",
      "subjects before immersing yourself in one of these focused areas.\n",
      "In this sec�on\n",
      "Show ﬁlters\n",
      " (/)\n",
      "We use cookies on our website to give you the most relevant experience by remembering your preferences and repeat visits. By clicking “Accept\n",
      "All”, you consent to the use of ALL the cookies. However, you may visit \"Cookie Settings\" to provide a controlled consent.\n",
      "Cookie Settings\n",
      "Accept All\n",
      "\n",
      "3/21/24, 7:37 PM\n",
      "Academic Programs - Asian Institute of Technology\n",
      "https://ait.ac.th/academics/programs/\n",
      "4/9\n",
      "Doctorate of Business\n",
      "Administra�on (DBA)\n",
      "Dual Degree Master’s\n",
      "Program with Telecom Sud\n",
      "Paris (France)\n",
      "Dual Degree Master’s\n",
      "Program in Data Science\n",
      "and AI with Brunel\n",
      "University London (UK)\n",
      "Dual Degree Master’s\n",
      "Program in Geotechnical\n",
      "and Earth Resources\n",
      "Engineering with Colorado\n",
      "State University (USA)\n",
      "Dual Degree Master’s\n",
      "Program in Water\n",
      "Engineering and\n",
      "Management with Colorado\n",
      "State University (USA)\n",
      "Dual Degree Master’s\n",
      "Program in Water\n",
      "Engineering and\n",
      "Management with the\n",
      "University of Iowa (USA)\n",
      " (/)\n",
      "    Question: How many Credits Does a course work have in Data Science and AI\n",
      "    Answer:\u001b[0m\n",
      "\n",
      "\u001b[1m> Finished chain.\u001b[0m\n",
      "\n",
      "\u001b[1m> Finished chain.\u001b[0m\n"
     ]
    },
    {
     "data": {
      "text/plain": [
       "{'input_documents': [Document(page_content='3/21/24, 7:37 PM\\nAcademic Programs - Asian Institute of Technology\\nhttps://ait.ac.th/academics/programs/\\n9/9\\n©2022 Asian Institute of Technology. All Rights Reserved. - Designed by Outsourcify (https://outsourcify.net)\\n (/)\\nWe use cookies on our website to give you the most relevant experience by remembering your preferences and repeat visits. By clicking “Accept\\nAll”, you consent to the use of ALL the cookies. However, you may visit \"Cookie Settings\" to provide a controlled consent.\\nCookie Settings\\nAccept All', metadata={'source': 'C:\\\\Users\\\\Haneesha\\\\OneDrive\\\\文件\\\\Boooooookkkkkkssss\\\\Academic Programs - Asian Institute of Technology.pdf', 'file_path': 'C:\\\\Users\\\\Haneesha\\\\OneDrive\\\\文件\\\\Boooooookkkkkkssss\\\\Academic Programs - Asian Institute of Technology.pdf', 'page': 8, 'total_pages': 9, 'format': 'PDF 1.4', 'title': '', 'author': '', 'subject': '', 'keywords': '', 'creator': 'Mozilla/5.0 (Windows NT 10.0; Win64; x64) AppleWebKit/537.36 (KHTML, like Gecko) Chrome/122.0.0.0 Safari/537.36', 'producer': 'Skia/PDF m122', 'creationDate': \"D:20240321123743+00'00'\", 'modDate': \"D:20240321123743+00'00'\", 'trapped': ''}),\n",
       "  Document(page_content='3/21/24, 7:37 PM\\nAcademic Programs - Asian Institute of Technology\\nhttps://ait.ac.th/academics/programs/\\n2/9\\nAll Programs\\nAgri-Business Management\\n(ABM)\\nAgricultural Systems And\\nEngineering (ASE)\\nAquaculture and Aqua�c\\nResources Management\\n(AARM)\\nBio-Nano Materials Science\\nand Engineering (BNMSE)\\nClimate Change and\\nSustainable Development\\n(CCSD)\\nComputer Science (CS)\\n (/)\\nWe use cookies on our website to give you the most relevant experience by remembering your preferences and repeat visits. By clicking “Accept\\nAll”, you consent to the use of ALL the cookies. However, you may visit \"Cookie Settings\" to provide a controlled consent.\\nCookie Settings\\nAccept All', metadata={'source': 'C:\\\\Users\\\\Haneesha\\\\OneDrive\\\\文件\\\\Boooooookkkkkkssss\\\\Academic Programs - Asian Institute of Technology.pdf', 'file_path': 'C:\\\\Users\\\\Haneesha\\\\OneDrive\\\\文件\\\\Boooooookkkkkkssss\\\\Academic Programs - Asian Institute of Technology.pdf', 'page': 1, 'total_pages': 9, 'format': 'PDF 1.4', 'title': '', 'author': '', 'subject': '', 'keywords': '', 'creator': 'Mozilla/5.0 (Windows NT 10.0; Win64; x64) AppleWebKit/537.36 (KHTML, like Gecko) Chrome/122.0.0.0 Safari/537.36', 'producer': 'Skia/PDF m122', 'creationDate': \"D:20240321123743+00'00'\", 'modDate': \"D:20240321123743+00'00'\", 'trapped': ''}),\n",
       "  Document(page_content='3/21/24, 7:37 PM\\nAcademic Programs - Asian Institute of Technology\\nhttps://ait.ac.th/academics/programs/\\n1/9\\nHome (h�ps://ait.ac.th) > Academics (h�ps://ait.ac.th… > Academic Programs\\nAcademic Programs\\nWe oﬀer various degree programs. You\\'ll sample courses in a wide range of\\nsubjects before immersing yourself in one of these focused areas.\\nIn this sec�on\\nShow ﬁlters\\n (/)\\nWe use cookies on our website to give you the most relevant experience by remembering your preferences and repeat visits. By clicking “Accept\\nAll”, you consent to the use of ALL the cookies. However, you may visit \"Cookie Settings\" to provide a controlled consent.\\nCookie Settings\\nAccept All', metadata={'source': 'C:\\\\Users\\\\Haneesha\\\\OneDrive\\\\文件\\\\Boooooookkkkkkssss\\\\Academic Programs - Asian Institute of Technology.pdf', 'file_path': 'C:\\\\Users\\\\Haneesha\\\\OneDrive\\\\文件\\\\Boooooookkkkkkssss\\\\Academic Programs - Asian Institute of Technology.pdf', 'page': 0, 'total_pages': 9, 'format': 'PDF 1.4', 'title': '', 'author': '', 'subject': '', 'keywords': '', 'creator': 'Mozilla/5.0 (Windows NT 10.0; Win64; x64) AppleWebKit/537.36 (KHTML, like Gecko) Chrome/122.0.0.0 Safari/537.36', 'producer': 'Skia/PDF m122', 'creationDate': \"D:20240321123743+00'00'\", 'modDate': \"D:20240321123743+00'00'\", 'trapped': ''}),\n",
       "  Document(page_content='3/21/24, 7:37 PM\\nAcademic Programs - Asian Institute of Technology\\nhttps://ait.ac.th/academics/programs/\\n4/9\\nDoctorate of Business\\nAdministra�on (DBA)\\nDual Degree Master’s\\nProgram with Telecom Sud\\nParis (France)\\nDual Degree Master’s\\nProgram in Data Science\\nand AI with Brunel\\nUniversity London (UK)\\nDual Degree Master’s\\nProgram in Geotechnical\\nand Earth Resources\\nEngineering with Colorado\\nState University (USA)\\nDual Degree Master’s\\nProgram in Water\\nEngineering and\\nManagement with Colorado\\nState University (USA)\\nDual Degree Master’s\\nProgram in Water\\nEngineering and\\nManagement with the\\nUniversity of Iowa (USA)\\n (/)', metadata={'source': 'C:\\\\Users\\\\Haneesha\\\\OneDrive\\\\文件\\\\Boooooookkkkkkssss\\\\Academic Programs - Asian Institute of Technology.pdf', 'file_path': 'C:\\\\Users\\\\Haneesha\\\\OneDrive\\\\文件\\\\Boooooookkkkkkssss\\\\Academic Programs - Asian Institute of Technology.pdf', 'page': 3, 'total_pages': 9, 'format': 'PDF 1.4', 'title': '', 'author': '', 'subject': '', 'keywords': '', 'creator': 'Mozilla/5.0 (Windows NT 10.0; Win64; x64) AppleWebKit/537.36 (KHTML, like Gecko) Chrome/122.0.0.0 Safari/537.36', 'producer': 'Skia/PDF m122', 'creationDate': \"D:20240321123743+00'00'\", 'modDate': \"D:20240321123743+00'00'\", 'trapped': ''})],\n",
       " 'question': 'How many Credits Does a course work have in Data Science and AI',\n",
       " 'output_text': '<pad>  Each  course  in  the  Data  Science  and  AI  program  has  a  maximum  of  30  credits.\\n (/)\\n We  use  cookies  on  our  website  to  give  you  the  most  relevant  experience  by  remembering  your  preferences  and  repeat  visits.  By  clicking  “Accept  All”,  you  consent  to  the  use  of  ALL  the  cookies.  However,  you  may  visit  \"Cookie  Settings\"  to  provide  a  controlled  consent.\\n Cookie  Settings\\n Accept  All\\n 3/21/24,  7:37  PM\\n Academic  Programs  -  Asian  Institute  of  Technology\\n https://ait.ac.th/academics/programs/\\n 5/9\\n Coursework  Credits\\n Coursework  Credits\\n Coursework  Credits\\n Coursework  Credits\\n Coursework  Credits\\n Coursework  Credits\\n Coursework  Credits\\n Coursework  Credits\\n Coursework  Credits\\n Coursework  Credits\\n'}"
      ]
     },
     "execution_count": 50,
     "metadata": {},
     "output_type": "execute_result"
    }
   ],
   "source": [
    "query = \"How many Credits Does a course work have in Data Science and AI\"\n",
    "input_document = retriever.get_relevant_documents(query)\n",
    "\n",
    "doc_chain({'input_documents':input_document, 'question':query})"
   ]
  },
  {
   "cell_type": "code",
   "execution_count": 51,
   "metadata": {},
   "outputs": [
    {
     "data": {
      "text/plain": [
       "ConversationalRetrievalChain(memory=ConversationBufferWindowMemory(output_key='answer', return_messages=True, memory_key='chat_history', k=3), verbose=True, combine_docs_chain=StuffDocumentsChain(verbose=True, llm_chain=LLMChain(verbose=True, prompt=PromptTemplate(input_variables=['context', 'question'], template='HI ,I am AIT LILbot. I am your study program bot .If you are looking for courses offered in AIT and which school offers which courses you can ask me, I am always ready to help you ^-^!\\n    {context}\\n    Question: {question}\\n    Answer:'), llm=HuggingFacePipeline(pipeline=<transformers.pipelines.text2text_generation.Text2TextGenerationPipeline object at 0x000002B2E71A9B90>)), document_variable_name='context'), question_generator=LLMChain(verbose=True, prompt=PromptTemplate(input_variables=['chat_history', 'question'], template='Given the following conversation and a follow up question, rephrase the follow up question to be a standalone question, in its original language.\\n\\nChat History:\\n{chat_history}\\nFollow Up Input: {question}\\nStandalone question:'), llm=HuggingFacePipeline(pipeline=<transformers.pipelines.text2text_generation.Text2TextGenerationPipeline object at 0x000002B2E71A9B90>)), return_source_documents=True, get_chat_history=<function <lambda> at 0x000002B2E728A200>, retriever=VectorStoreRetriever(tags=['FAISS', 'HuggingFaceInstructEmbeddings'], vectorstore=<langchain_community.vectorstores.faiss.FAISS object at 0x000002B23BDEAF10>))"
      ]
     },
     "execution_count": 51,
     "metadata": {},
     "output_type": "execute_result"
    }
   ],
   "source": [
    "memory = ConversationBufferWindowMemory(\n",
    "    k=3, \n",
    "    memory_key = \"chat_history\",\n",
    "    return_messages = True,\n",
    "    output_key = 'answer'\n",
    ")\n",
    "\n",
    "chain = ConversationalRetrievalChain(\n",
    "    retriever=retriever,\n",
    "    question_generator=question_generator,\n",
    "    combine_docs_chain=doc_chain,\n",
    "    return_source_documents=True,\n",
    "    memory=memory,\n",
    "    verbose=True,\n",
    "    get_chat_history=lambda h : h\n",
    ")\n",
    "chain"
   ]
  },
  {
   "attachments": {},
   "cell_type": "markdown",
   "metadata": {},
   "source": [
    "## 5. Chatbot"
   ]
  },
  {
   "cell_type": "code",
   "execution_count": 52,
   "metadata": {},
   "outputs": [
    {
     "name": "stdout",
     "output_type": "stream",
     "text": [
      "\n",
      "\n",
      "\u001b[1m> Entering new ConversationalRetrievalChain chain...\u001b[0m\n",
      "\n",
      "\n",
      "\u001b[1m> Entering new StuffDocumentsChain chain...\u001b[0m\n",
      "\n",
      "\n",
      "\u001b[1m> Entering new LLMChain chain...\u001b[0m\n",
      "Prompt after formatting:\n",
      "\u001b[32;1m\u001b[1;3mHI ,I am AIT LILbot. I am your study program bot .If you are looking for courses offered in AIT and which school offers which courses you can ask me, I am always ready to help you ^-^!\n",
      "    3/21/24, 7:37 PM\n",
      "Academic Programs - Asian Institute of Technology\n",
      "https://ait.ac.th/academics/programs/\n",
      "9/9\n",
      "©2022 Asian Institute of Technology. All Rights Reserved. - Designed by Outsourcify (https://outsourcify.net)\n",
      " (/)\n",
      "We use cookies on our website to give you the most relevant experience by remembering your preferences and repeat visits. By clicking “Accept\n",
      "All”, you consent to the use of ALL the cookies. However, you may visit \"Cookie Settings\" to provide a controlled consent.\n",
      "Cookie Settings\n",
      "Accept All\n",
      "\n",
      "3/21/24, 7:37 PM\n",
      "Academic Programs - Asian Institute of Technology\n",
      "https://ait.ac.th/academics/programs/\n",
      "5/9\n",
      "Dual Degree Program with\n",
      "University of Wollongong\n",
      "(Australia)\n",
      "Engineering\n",
      "Entrepreneurship\n",
      "Environmental Engineering\n",
      "and Management (EEM)\n",
      "Food Engineering and\n",
      "Bioprocess Technology\n",
      "(FEBT)\n",
      "Food Innova�on, Nutri�on\n",
      "and Health (FINH)\n",
      "Gender and Development\n",
      "Studies (GDS)\n",
      "N\n",
      "t\n",
      " (/)\n",
      "We use cookies on our website to give you the most relevant experience by remembering your preferences and repeat visits. By clicking “Accept\n",
      "All”, you consent to the use of ALL the cookies. However, you may visit \"Cookie Settings\" to provide a controlled consent.\n",
      "Cookie Settings\n",
      "Accept All\n",
      "\n",
      "3/21/24, 7:37 PM\n",
      "Academic Programs - Asian Institute of Technology\n",
      "https://ait.ac.th/academics/programs/\n",
      "4/9\n",
      "Doctorate of Business\n",
      "Administra�on (DBA)\n",
      "Dual Degree Master’s\n",
      "Program with Telecom Sud\n",
      "Paris (France)\n",
      "Dual Degree Master’s\n",
      "Program in Data Science\n",
      "and AI with Brunel\n",
      "University London (UK)\n",
      "Dual Degree Master’s\n",
      "Program in Geotechnical\n",
      "and Earth Resources\n",
      "Engineering with Colorado\n",
      "State University (USA)\n",
      "Dual Degree Master’s\n",
      "Program in Water\n",
      "Engineering and\n",
      "Management with Colorado\n",
      "State University (USA)\n",
      "Dual Degree Master’s\n",
      "Program in Water\n",
      "Engineering and\n",
      "Management with the\n",
      "University of Iowa (USA)\n",
      " (/)\n",
      "\n",
      "3/21/24, 7:37 PM\n",
      "Academic Programs - Asian Institute of Technology\n",
      "https://ait.ac.th/academics/programs/\n",
      "2/9\n",
      "All Programs\n",
      "Agri-Business Management\n",
      "(ABM)\n",
      "Agricultural Systems And\n",
      "Engineering (ASE)\n",
      "Aquaculture and Aqua�c\n",
      "Resources Management\n",
      "(AARM)\n",
      "Bio-Nano Materials Science\n",
      "and Engineering (BNMSE)\n",
      "Climate Change and\n",
      "Sustainable Development\n",
      "(CCSD)\n",
      "Computer Science (CS)\n",
      " (/)\n",
      "We use cookies on our website to give you the most relevant experience by remembering your preferences and repeat visits. By clicking “Accept\n",
      "All”, you consent to the use of ALL the cookies. However, you may visit \"Cookie Settings\" to provide a controlled consent.\n",
      "Cookie Settings\n",
      "Accept All\n",
      "    Question: Who are you by the way?\n",
      "    Answer:\u001b[0m\n",
      "\n",
      "\u001b[1m> Finished chain.\u001b[0m\n",
      "\n",
      "\u001b[1m> Finished chain.\u001b[0m\n",
      "\n",
      "\u001b[1m> Finished chain.\u001b[0m\n"
     ]
    },
    {
     "data": {
      "text/plain": [
       "{'question': 'Who are you by the way?',\n",
       " 'chat_history': [],\n",
       " 'answer': '<pad>  I  am  an  AI  bot  created  by  Asian  Institute  of  Technology  (AIT)  to  provide  information  about  academic  programs  offered  by  the  institute.  I  am  designed  to  assist  users  in  finding  the  courses  they  are  interested  in  and  which  schools  offer  those  courses.\\n',\n",
       " 'source_documents': [Document(page_content='3/21/24, 7:37 PM\\nAcademic Programs - Asian Institute of Technology\\nhttps://ait.ac.th/academics/programs/\\n9/9\\n©2022 Asian Institute of Technology. All Rights Reserved. - Designed by Outsourcify (https://outsourcify.net)\\n (/)\\nWe use cookies on our website to give you the most relevant experience by remembering your preferences and repeat visits. By clicking “Accept\\nAll”, you consent to the use of ALL the cookies. However, you may visit \"Cookie Settings\" to provide a controlled consent.\\nCookie Settings\\nAccept All', metadata={'source': 'C:\\\\Users\\\\Haneesha\\\\OneDrive\\\\文件\\\\Boooooookkkkkkssss\\\\Academic Programs - Asian Institute of Technology.pdf', 'file_path': 'C:\\\\Users\\\\Haneesha\\\\OneDrive\\\\文件\\\\Boooooookkkkkkssss\\\\Academic Programs - Asian Institute of Technology.pdf', 'page': 8, 'total_pages': 9, 'format': 'PDF 1.4', 'title': '', 'author': '', 'subject': '', 'keywords': '', 'creator': 'Mozilla/5.0 (Windows NT 10.0; Win64; x64) AppleWebKit/537.36 (KHTML, like Gecko) Chrome/122.0.0.0 Safari/537.36', 'producer': 'Skia/PDF m122', 'creationDate': \"D:20240321123743+00'00'\", 'modDate': \"D:20240321123743+00'00'\", 'trapped': ''}),\n",
       "  Document(page_content='3/21/24, 7:37 PM\\nAcademic Programs - Asian Institute of Technology\\nhttps://ait.ac.th/academics/programs/\\n5/9\\nDual Degree Program with\\nUniversity of Wollongong\\n(Australia)\\nEngineering\\nEntrepreneurship\\nEnvironmental Engineering\\nand Management (EEM)\\nFood Engineering and\\nBioprocess Technology\\n(FEBT)\\nFood Innova�on, Nutri�on\\nand Health (FINH)\\nGender and Development\\nStudies (GDS)\\nN\\nt\\n (/)\\nWe use cookies on our website to give you the most relevant experience by remembering your preferences and repeat visits. By clicking “Accept\\nAll”, you consent to the use of ALL the cookies. However, you may visit \"Cookie Settings\" to provide a controlled consent.\\nCookie Settings\\nAccept All', metadata={'source': 'C:\\\\Users\\\\Haneesha\\\\OneDrive\\\\文件\\\\Boooooookkkkkkssss\\\\Academic Programs - Asian Institute of Technology.pdf', 'file_path': 'C:\\\\Users\\\\Haneesha\\\\OneDrive\\\\文件\\\\Boooooookkkkkkssss\\\\Academic Programs - Asian Institute of Technology.pdf', 'page': 4, 'total_pages': 9, 'format': 'PDF 1.4', 'title': '', 'author': '', 'subject': '', 'keywords': '', 'creator': 'Mozilla/5.0 (Windows NT 10.0; Win64; x64) AppleWebKit/537.36 (KHTML, like Gecko) Chrome/122.0.0.0 Safari/537.36', 'producer': 'Skia/PDF m122', 'creationDate': \"D:20240321123743+00'00'\", 'modDate': \"D:20240321123743+00'00'\", 'trapped': ''}),\n",
       "  Document(page_content='3/21/24, 7:37 PM\\nAcademic Programs - Asian Institute of Technology\\nhttps://ait.ac.th/academics/programs/\\n4/9\\nDoctorate of Business\\nAdministra�on (DBA)\\nDual Degree Master’s\\nProgram with Telecom Sud\\nParis (France)\\nDual Degree Master’s\\nProgram in Data Science\\nand AI with Brunel\\nUniversity London (UK)\\nDual Degree Master’s\\nProgram in Geotechnical\\nand Earth Resources\\nEngineering with Colorado\\nState University (USA)\\nDual Degree Master’s\\nProgram in Water\\nEngineering and\\nManagement with Colorado\\nState University (USA)\\nDual Degree Master’s\\nProgram in Water\\nEngineering and\\nManagement with the\\nUniversity of Iowa (USA)\\n (/)', metadata={'source': 'C:\\\\Users\\\\Haneesha\\\\OneDrive\\\\文件\\\\Boooooookkkkkkssss\\\\Academic Programs - Asian Institute of Technology.pdf', 'file_path': 'C:\\\\Users\\\\Haneesha\\\\OneDrive\\\\文件\\\\Boooooookkkkkkssss\\\\Academic Programs - Asian Institute of Technology.pdf', 'page': 3, 'total_pages': 9, 'format': 'PDF 1.4', 'title': '', 'author': '', 'subject': '', 'keywords': '', 'creator': 'Mozilla/5.0 (Windows NT 10.0; Win64; x64) AppleWebKit/537.36 (KHTML, like Gecko) Chrome/122.0.0.0 Safari/537.36', 'producer': 'Skia/PDF m122', 'creationDate': \"D:20240321123743+00'00'\", 'modDate': \"D:20240321123743+00'00'\", 'trapped': ''}),\n",
       "  Document(page_content='3/21/24, 7:37 PM\\nAcademic Programs - Asian Institute of Technology\\nhttps://ait.ac.th/academics/programs/\\n2/9\\nAll Programs\\nAgri-Business Management\\n(ABM)\\nAgricultural Systems And\\nEngineering (ASE)\\nAquaculture and Aqua�c\\nResources Management\\n(AARM)\\nBio-Nano Materials Science\\nand Engineering (BNMSE)\\nClimate Change and\\nSustainable Development\\n(CCSD)\\nComputer Science (CS)\\n (/)\\nWe use cookies on our website to give you the most relevant experience by remembering your preferences and repeat visits. By clicking “Accept\\nAll”, you consent to the use of ALL the cookies. However, you may visit \"Cookie Settings\" to provide a controlled consent.\\nCookie Settings\\nAccept All', metadata={'source': 'C:\\\\Users\\\\Haneesha\\\\OneDrive\\\\文件\\\\Boooooookkkkkkssss\\\\Academic Programs - Asian Institute of Technology.pdf', 'file_path': 'C:\\\\Users\\\\Haneesha\\\\OneDrive\\\\文件\\\\Boooooookkkkkkssss\\\\Academic Programs - Asian Institute of Technology.pdf', 'page': 1, 'total_pages': 9, 'format': 'PDF 1.4', 'title': '', 'author': '', 'subject': '', 'keywords': '', 'creator': 'Mozilla/5.0 (Windows NT 10.0; Win64; x64) AppleWebKit/537.36 (KHTML, like Gecko) Chrome/122.0.0.0 Safari/537.36', 'producer': 'Skia/PDF m122', 'creationDate': \"D:20240321123743+00'00'\", 'modDate': \"D:20240321123743+00'00'\", 'trapped': ''})]}"
      ]
     },
     "execution_count": 52,
     "metadata": {},
     "output_type": "execute_result"
    }
   ],
   "source": [
    "prompt_question = \"Who are you by the way?\"\n",
    "answer = chain({\"question\":prompt_question})\n",
    "answer"
   ]
  },
  {
   "cell_type": "code",
   "execution_count": 53,
   "metadata": {},
   "outputs": [
    {
     "name": "stdout",
     "output_type": "stream",
     "text": [
      "\n",
      "\n",
      "\u001b[1m> Entering new ConversationalRetrievalChain chain...\u001b[0m\n",
      "\n",
      "\n",
      "\u001b[1m> Entering new LLMChain chain...\u001b[0m\n",
      "Prompt after formatting:\n",
      "\u001b[32;1m\u001b[1;3mGiven the following conversation and a follow up question, rephrase the follow up question to be a standalone question, in its original language.\n",
      "\n",
      "Chat History:\n",
      "[HumanMessage(content='Who are you by the way?'), AIMessage(content='<pad>  I  am  an  AI  bot  created  by  Asian  Institute  of  Technology  (AIT)  to  provide  information  about  academic  programs  offered  by  the  institute.  I  am  designed  to  assist  users  in  finding  the  courses  they  are  interested  in  and  which  schools  offer  those  courses.\\n')]\n",
      "Follow Up Input: What are the programs offered in August semester?\n",
      "Standalone question:\u001b[0m\n",
      "\n",
      "\u001b[1m> Finished chain.\u001b[0m\n",
      "\n",
      "\n",
      "\u001b[1m> Entering new StuffDocumentsChain chain...\u001b[0m\n",
      "\n",
      "\n",
      "\u001b[1m> Entering new LLMChain chain...\u001b[0m\n",
      "Prompt after formatting:\n",
      "\u001b[32;1m\u001b[1;3mHI ,I am AIT LILbot. I am your study program bot .If you are looking for courses offered in AIT and which school offers which courses you can ask me, I am always ready to help you ^-^!\n",
      "    3/21/24, 7:37 PM\n",
      "Academic Programs - Asian Institute of Technology\n",
      "https://ait.ac.th/academics/programs/\n",
      "6/9\n",
      "1\n",
      "2\n",
      "3 Next\n",
      "»\n",
      " (/)\n",
      "P.O. Box 4, 58 Moo 9, Km. 42, Paholyothin Highway, Klong Luang, Pathum Thani 12120 Thailand\n",
      "(+66) 25245000, (+66) 25160110-44\n",
      "About\n",
      "Academics\n",
      "Apply to AIT\n",
      " (/)\n",
      "We use cookies on our website to give you the most relevant experience by remembering your preferences and repeat visits. By clicking “Accept\n",
      "All”, you consent to the use of ALL the cookies. However, you may visit \"Cookie Settings\" to provide a controlled consent.\n",
      "Cookie Settings\n",
      "Accept All\n",
      "\n",
      "3/21/24, 7:37 PM\n",
      "Academic Programs - Asian Institute of Technology\n",
      "https://ait.ac.th/academics/programs/\n",
      "1/9\n",
      "Home (h�ps://ait.ac.th) > Academics (h�ps://ait.ac.th… > Academic Programs\n",
      "Academic Programs\n",
      "We oﬀer various degree programs. You'll sample courses in a wide range of\n",
      "subjects before immersing yourself in one of these focused areas.\n",
      "In this sec�on\n",
      "Show ﬁlters\n",
      " (/)\n",
      "We use cookies on our website to give you the most relevant experience by remembering your preferences and repeat visits. By clicking “Accept\n",
      "All”, you consent to the use of ALL the cookies. However, you may visit \"Cookie Settings\" to provide a controlled consent.\n",
      "Cookie Settings\n",
      "Accept All\n",
      "\n",
      "3/21/24, 7:37 PM\n",
      "Academic Programs - Asian Institute of Technology\n",
      "https://ait.ac.th/academics/programs/\n",
      "7/9\n",
      "About AIT (https://ait.ac.th/about/)\n",
      "Facts and ﬁgures\n",
      "(https://ait.ac.th/about/facts-and-\n",
      "ﬁgures/)\n",
      "Rankings\n",
      "(https://ait.ac.th/about/rankings/)\n",
      "Leadership\n",
      "(https://ait.ac.th/about/leadership/)\n",
      "People (https://ait.ac.th/about/meet-\n",
      "our-faculty/)\n",
      "Meet our faculty\n",
      "(https://ait.ac.th/about/meet-our-\n",
      "faculty/)\n",
      "Meet our staff\n",
      "(https://ait.ac.th/about/meet-our-staff/)\n",
      "Location\n",
      "(https://ait.ac.th/about/location/)\n",
      "Centers\n",
      "(https://ait.ac.th/about/centers/)\n",
      "Academic calendar\n",
      "(https://ait.ac.th/academics/calendar/)\n",
      "Academic Programs\n",
      "(https://ait.ac.th/academics/programs/)\n",
      "Study options\n",
      "\n",
      "Academic Programs\n",
      "(https://ait.ac.th/academics/programs/)\n",
      "Study options\n",
      "(https://ait.ac.th/academics/study-\n",
      "options/)\n",
      "Student opportunities\n",
      "(https://ait.ac.th/academics/student-\n",
      "opportunities/)\n",
      "Schools\n",
      "(https://ait.ac.th/academics/schools/)\n",
      "Admissions\n",
      "(https://ait.ac.th/admissions/)\n",
      "Financial aid\n",
      "(https://ait.ac.th/ﬁnancial-aid/)\n",
      "Tuition and fees\n",
      "(https://ait.ac.th/tuition-and-fees/)\n",
      "Student housing\n",
      "(https://ait.ac.th/student-housing/)\n",
      "Apply online (https://ait.ac.th/apply-\n",
      "online/)\n",
      "Research\n",
      "Research Centers\n",
      "(https://ait.ac.th/research-centers/)\n",
      "Campus life\n",
      "Housing (https://ait.ac.th/housing/)\n",
      "Dining (https://ait.ac.th/dining/)\n",
      "Partners\n",
      "(h�ps://ait.ac.th/partners/)\n",
      " (/)\n",
      "    Question: <pad> What  programs  are  offered  in  the  August  semester  at  AIT?\n",
      "\n",
      "    Answer:\u001b[0m\n",
      "\n",
      "\u001b[1m> Finished chain.\u001b[0m\n",
      "\n",
      "\u001b[1m> Finished chain.\u001b[0m\n",
      "\n",
      "\u001b[1m> Finished chain.\u001b[0m\n"
     ]
    },
    {
     "data": {
      "text/plain": [
       "{'question': 'What are the programs offered in August semester?',\n",
       " 'chat_history': [HumanMessage(content='Who are you by the way?'),\n",
       "  AIMessage(content='<pad>  I  am  an  AI  bot  created  by  Asian  Institute  of  Technology  (AIT)  to  provide  information  about  academic  programs  offered  by  the  institute.  I  am  designed  to  assist  users  in  finding  the  courses  they  are  interested  in  and  which  schools  offer  those  courses.\\n')],\n",
       " 'answer': '<pad> < pad>\\n The  August  semester  at  AIT  offers  the  following  programs:\\n *  Bachelor  of  Science  (B.S.)  in  Computer  Science\\n *  Bachelor  of  Science  (B.S.)  in  Information  Technology\\n *  Bachelor  of  Science  (B.S.)  in  Computer  Engineering\\n *  Bachelor  of  Science  (B.S.)  in  Information  Technology  Management\\n *  Bachelor  of  Science  (B.S.)  in  Computer  Science\\n *  Bachelor  of  Science  (B.S.)  in  Information  Technology  Management\\n *  Bachelor  of  Science  (B.S.)  in  Computer  Engineering\\n *  Bachelor  of  Science  (B.S.)  in  Computer  Science\\n *  Bachelor  of  Science  (B.S.)  in  Computer  Engineering\\n *  Bachelor  of  Science  (B.S.)  in  Information  Technology  Management\\n *  Bachelor  of  Science  (B.S.) ',\n",
       " 'source_documents': [Document(page_content='3/21/24, 7:37 PM\\nAcademic Programs - Asian Institute of Technology\\nhttps://ait.ac.th/academics/programs/\\n6/9\\n1\\n2\\n3 Next\\n»\\n (/)\\nP.O. Box 4, 58 Moo 9, Km. 42, Paholyothin Highway, Klong Luang, Pathum Thani 12120 Thailand\\n(+66) 25245000, (+66) 25160110-44\\nAbout\\nAcademics\\nApply to AIT\\n (/)\\nWe use cookies on our website to give you the most relevant experience by remembering your preferences and repeat visits. By clicking “Accept\\nAll”, you consent to the use of ALL the cookies. However, you may visit \"Cookie Settings\" to provide a controlled consent.\\nCookie Settings\\nAccept All', metadata={'source': 'C:\\\\Users\\\\Haneesha\\\\OneDrive\\\\文件\\\\Boooooookkkkkkssss\\\\Academic Programs - Asian Institute of Technology.pdf', 'file_path': 'C:\\\\Users\\\\Haneesha\\\\OneDrive\\\\文件\\\\Boooooookkkkkkssss\\\\Academic Programs - Asian Institute of Technology.pdf', 'page': 5, 'total_pages': 9, 'format': 'PDF 1.4', 'title': '', 'author': '', 'subject': '', 'keywords': '', 'creator': 'Mozilla/5.0 (Windows NT 10.0; Win64; x64) AppleWebKit/537.36 (KHTML, like Gecko) Chrome/122.0.0.0 Safari/537.36', 'producer': 'Skia/PDF m122', 'creationDate': \"D:20240321123743+00'00'\", 'modDate': \"D:20240321123743+00'00'\", 'trapped': ''}),\n",
       "  Document(page_content='3/21/24, 7:37 PM\\nAcademic Programs - Asian Institute of Technology\\nhttps://ait.ac.th/academics/programs/\\n1/9\\nHome (h�ps://ait.ac.th) > Academics (h�ps://ait.ac.th… > Academic Programs\\nAcademic Programs\\nWe oﬀer various degree programs. You\\'ll sample courses in a wide range of\\nsubjects before immersing yourself in one of these focused areas.\\nIn this sec�on\\nShow ﬁlters\\n (/)\\nWe use cookies on our website to give you the most relevant experience by remembering your preferences and repeat visits. By clicking “Accept\\nAll”, you consent to the use of ALL the cookies. However, you may visit \"Cookie Settings\" to provide a controlled consent.\\nCookie Settings\\nAccept All', metadata={'source': 'C:\\\\Users\\\\Haneesha\\\\OneDrive\\\\文件\\\\Boooooookkkkkkssss\\\\Academic Programs - Asian Institute of Technology.pdf', 'file_path': 'C:\\\\Users\\\\Haneesha\\\\OneDrive\\\\文件\\\\Boooooookkkkkkssss\\\\Academic Programs - Asian Institute of Technology.pdf', 'page': 0, 'total_pages': 9, 'format': 'PDF 1.4', 'title': '', 'author': '', 'subject': '', 'keywords': '', 'creator': 'Mozilla/5.0 (Windows NT 10.0; Win64; x64) AppleWebKit/537.36 (KHTML, like Gecko) Chrome/122.0.0.0 Safari/537.36', 'producer': 'Skia/PDF m122', 'creationDate': \"D:20240321123743+00'00'\", 'modDate': \"D:20240321123743+00'00'\", 'trapped': ''}),\n",
       "  Document(page_content='3/21/24, 7:37 PM\\nAcademic Programs - Asian Institute of Technology\\nhttps://ait.ac.th/academics/programs/\\n7/9\\nAbout AIT (https://ait.ac.th/about/)\\nFacts and ﬁgures\\n(https://ait.ac.th/about/facts-and-\\nﬁgures/)\\nRankings\\n(https://ait.ac.th/about/rankings/)\\nLeadership\\n(https://ait.ac.th/about/leadership/)\\nPeople (https://ait.ac.th/about/meet-\\nour-faculty/)\\nMeet our faculty\\n(https://ait.ac.th/about/meet-our-\\nfaculty/)\\nMeet our staff\\n(https://ait.ac.th/about/meet-our-staff/)\\nLocation\\n(https://ait.ac.th/about/location/)\\nCenters\\n(https://ait.ac.th/about/centers/)\\nAcademic calendar\\n(https://ait.ac.th/academics/calendar/)\\nAcademic Programs\\n(https://ait.ac.th/academics/programs/)\\nStudy options', metadata={'source': 'C:\\\\Users\\\\Haneesha\\\\OneDrive\\\\文件\\\\Boooooookkkkkkssss\\\\Academic Programs - Asian Institute of Technology.pdf', 'file_path': 'C:\\\\Users\\\\Haneesha\\\\OneDrive\\\\文件\\\\Boooooookkkkkkssss\\\\Academic Programs - Asian Institute of Technology.pdf', 'page': 6, 'total_pages': 9, 'format': 'PDF 1.4', 'title': '', 'author': '', 'subject': '', 'keywords': '', 'creator': 'Mozilla/5.0 (Windows NT 10.0; Win64; x64) AppleWebKit/537.36 (KHTML, like Gecko) Chrome/122.0.0.0 Safari/537.36', 'producer': 'Skia/PDF m122', 'creationDate': \"D:20240321123743+00'00'\", 'modDate': \"D:20240321123743+00'00'\", 'trapped': ''}),\n",
       "  Document(page_content='Academic Programs\\n(https://ait.ac.th/academics/programs/)\\nStudy options\\n(https://ait.ac.th/academics/study-\\noptions/)\\nStudent opportunities\\n(https://ait.ac.th/academics/student-\\nopportunities/)\\nSchools\\n(https://ait.ac.th/academics/schools/)\\nAdmissions\\n(https://ait.ac.th/admissions/)\\nFinancial aid\\n(https://ait.ac.th/ﬁnancial-aid/)\\nTuition and fees\\n(https://ait.ac.th/tuition-and-fees/)\\nStudent housing\\n(https://ait.ac.th/student-housing/)\\nApply online (https://ait.ac.th/apply-\\nonline/)\\nResearch\\nResearch Centers\\n(https://ait.ac.th/research-centers/)\\nCampus life\\nHousing (https://ait.ac.th/housing/)\\nDining (https://ait.ac.th/dining/)\\nPartners\\n(h�ps://ait.ac.th/partners/)\\n (/)', metadata={'source': 'C:\\\\Users\\\\Haneesha\\\\OneDrive\\\\文件\\\\Boooooookkkkkkssss\\\\Academic Programs - Asian Institute of Technology.pdf', 'file_path': 'C:\\\\Users\\\\Haneesha\\\\OneDrive\\\\文件\\\\Boooooookkkkkkssss\\\\Academic Programs - Asian Institute of Technology.pdf', 'page': 6, 'total_pages': 9, 'format': 'PDF 1.4', 'title': '', 'author': '', 'subject': '', 'keywords': '', 'creator': 'Mozilla/5.0 (Windows NT 10.0; Win64; x64) AppleWebKit/537.36 (KHTML, like Gecko) Chrome/122.0.0.0 Safari/537.36', 'producer': 'Skia/PDF m122', 'creationDate': \"D:20240321123743+00'00'\", 'modDate': \"D:20240321123743+00'00'\", 'trapped': ''})]}"
      ]
     },
     "execution_count": 53,
     "metadata": {},
     "output_type": "execute_result"
    }
   ],
   "source": [
    "prompt_question = \"What are the programs offered in August semester?\"\n",
    "answer = chain({\"question\":prompt_question})\n",
    "answer"
   ]
  },
  {
   "cell_type": "markdown",
   "metadata": {},
   "source": [
    "**Issues faced during modeling**\n",
    "I haven't used bits and bytes because of the cpu issue,as per the model it has given relevant data along with file details and website links"
   ]
  }
 ],
 "metadata": {
  "kernelspec": {
   "display_name": "Python 3 (ipykernel)",
   "language": "python",
   "name": "python3"
  },
  "language_info": {
   "codemirror_mode": {
    "name": "ipython",
    "version": 3
   },
   "file_extension": ".py",
   "mimetype": "text/x-python",
   "name": "python",
   "nbconvert_exporter": "python",
   "pygments_lexer": "ipython3",
   "version": "3.11.1"
  }
 },
 "nbformat": 4,
 "nbformat_minor": 4
}
